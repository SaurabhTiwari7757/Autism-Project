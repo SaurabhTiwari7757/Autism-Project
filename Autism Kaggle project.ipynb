{
 "cells": [
  {
   "cell_type": "code",
   "execution_count": 1500,
   "metadata": {},
   "outputs": [],
   "source": [
    "import numpy as np\n",
    "import pandas as pd\n",
    "import seaborn as sns\n",
    "import matplotlib.pyplot as plt \n",
    "import warnings\n",
    "warnings.filterwarnings('ignore')\n",
    "pd.set_option('display.max_columns',None)"
   ]
  },
  {
   "cell_type": "code",
   "execution_count": 1501,
   "metadata": {},
   "outputs": [],
   "source": [
    "Traindf=pd.read_csv(r'\\autismdiagnosis\\Autism_Prediction\\train.csv')"
   ]
  },
  {
   "cell_type": "code",
   "execution_count": 1502,
   "metadata": {},
   "outputs": [
    {
     "data": {
      "text/html": [
       "<div>\n",
       "<style scoped>\n",
       "    .dataframe tbody tr th:only-of-type {\n",
       "        vertical-align: middle;\n",
       "    }\n",
       "\n",
       "    .dataframe tbody tr th {\n",
       "        vertical-align: top;\n",
       "    }\n",
       "\n",
       "    .dataframe thead th {\n",
       "        text-align: right;\n",
       "    }\n",
       "</style>\n",
       "<table border=\"1\" class=\"dataframe\">\n",
       "  <thead>\n",
       "    <tr style=\"text-align: right;\">\n",
       "      <th></th>\n",
       "      <th>ID</th>\n",
       "      <th>A1_Score</th>\n",
       "      <th>A2_Score</th>\n",
       "      <th>A3_Score</th>\n",
       "      <th>A4_Score</th>\n",
       "      <th>A5_Score</th>\n",
       "      <th>A6_Score</th>\n",
       "      <th>A7_Score</th>\n",
       "      <th>A8_Score</th>\n",
       "      <th>A9_Score</th>\n",
       "      <th>A10_Score</th>\n",
       "      <th>age</th>\n",
       "      <th>gender</th>\n",
       "      <th>ethnicity</th>\n",
       "      <th>jaundice</th>\n",
       "      <th>austim</th>\n",
       "      <th>contry_of_res</th>\n",
       "      <th>used_app_before</th>\n",
       "      <th>result</th>\n",
       "      <th>age_desc</th>\n",
       "      <th>relation</th>\n",
       "      <th>Class/ASD</th>\n",
       "    </tr>\n",
       "  </thead>\n",
       "  <tbody>\n",
       "    <tr>\n",
       "      <th>0</th>\n",
       "      <td>1</td>\n",
       "      <td>1</td>\n",
       "      <td>0</td>\n",
       "      <td>1</td>\n",
       "      <td>0</td>\n",
       "      <td>1</td>\n",
       "      <td>0</td>\n",
       "      <td>1</td>\n",
       "      <td>0</td>\n",
       "      <td>1</td>\n",
       "      <td>1</td>\n",
       "      <td>38.172746</td>\n",
       "      <td>f</td>\n",
       "      <td>?</td>\n",
       "      <td>no</td>\n",
       "      <td>no</td>\n",
       "      <td>Austria</td>\n",
       "      <td>no</td>\n",
       "      <td>6.351166</td>\n",
       "      <td>18 and more</td>\n",
       "      <td>Self</td>\n",
       "      <td>0</td>\n",
       "    </tr>\n",
       "    <tr>\n",
       "      <th>1</th>\n",
       "      <td>2</td>\n",
       "      <td>0</td>\n",
       "      <td>0</td>\n",
       "      <td>0</td>\n",
       "      <td>0</td>\n",
       "      <td>0</td>\n",
       "      <td>0</td>\n",
       "      <td>0</td>\n",
       "      <td>0</td>\n",
       "      <td>0</td>\n",
       "      <td>0</td>\n",
       "      <td>47.750517</td>\n",
       "      <td>m</td>\n",
       "      <td>?</td>\n",
       "      <td>no</td>\n",
       "      <td>no</td>\n",
       "      <td>India</td>\n",
       "      <td>no</td>\n",
       "      <td>2.255185</td>\n",
       "      <td>18 and more</td>\n",
       "      <td>Self</td>\n",
       "      <td>0</td>\n",
       "    </tr>\n",
       "    <tr>\n",
       "      <th>2</th>\n",
       "      <td>3</td>\n",
       "      <td>1</td>\n",
       "      <td>1</td>\n",
       "      <td>1</td>\n",
       "      <td>1</td>\n",
       "      <td>1</td>\n",
       "      <td>1</td>\n",
       "      <td>1</td>\n",
       "      <td>1</td>\n",
       "      <td>1</td>\n",
       "      <td>1</td>\n",
       "      <td>7.380373</td>\n",
       "      <td>m</td>\n",
       "      <td>White-European</td>\n",
       "      <td>no</td>\n",
       "      <td>yes</td>\n",
       "      <td>United States</td>\n",
       "      <td>no</td>\n",
       "      <td>14.851484</td>\n",
       "      <td>18 and more</td>\n",
       "      <td>Self</td>\n",
       "      <td>1</td>\n",
       "    </tr>\n",
       "    <tr>\n",
       "      <th>3</th>\n",
       "      <td>4</td>\n",
       "      <td>0</td>\n",
       "      <td>0</td>\n",
       "      <td>0</td>\n",
       "      <td>0</td>\n",
       "      <td>0</td>\n",
       "      <td>0</td>\n",
       "      <td>0</td>\n",
       "      <td>0</td>\n",
       "      <td>0</td>\n",
       "      <td>0</td>\n",
       "      <td>23.561927</td>\n",
       "      <td>f</td>\n",
       "      <td>?</td>\n",
       "      <td>no</td>\n",
       "      <td>no</td>\n",
       "      <td>United States</td>\n",
       "      <td>no</td>\n",
       "      <td>2.276617</td>\n",
       "      <td>18 and more</td>\n",
       "      <td>Self</td>\n",
       "      <td>0</td>\n",
       "    </tr>\n",
       "    <tr>\n",
       "      <th>4</th>\n",
       "      <td>5</td>\n",
       "      <td>0</td>\n",
       "      <td>0</td>\n",
       "      <td>0</td>\n",
       "      <td>0</td>\n",
       "      <td>0</td>\n",
       "      <td>0</td>\n",
       "      <td>0</td>\n",
       "      <td>0</td>\n",
       "      <td>0</td>\n",
       "      <td>0</td>\n",
       "      <td>43.205790</td>\n",
       "      <td>m</td>\n",
       "      <td>?</td>\n",
       "      <td>no</td>\n",
       "      <td>no</td>\n",
       "      <td>South Africa</td>\n",
       "      <td>no</td>\n",
       "      <td>-4.777286</td>\n",
       "      <td>18 and more</td>\n",
       "      <td>Self</td>\n",
       "      <td>0</td>\n",
       "    </tr>\n",
       "    <tr>\n",
       "      <th>5</th>\n",
       "      <td>6</td>\n",
       "      <td>1</td>\n",
       "      <td>0</td>\n",
       "      <td>0</td>\n",
       "      <td>0</td>\n",
       "      <td>0</td>\n",
       "      <td>1</td>\n",
       "      <td>0</td>\n",
       "      <td>0</td>\n",
       "      <td>1</td>\n",
       "      <td>1</td>\n",
       "      <td>31.527964</td>\n",
       "      <td>m</td>\n",
       "      <td>Middle Eastern</td>\n",
       "      <td>no</td>\n",
       "      <td>no</td>\n",
       "      <td>Jordan</td>\n",
       "      <td>no</td>\n",
       "      <td>9.562117</td>\n",
       "      <td>18 and more</td>\n",
       "      <td>Self</td>\n",
       "      <td>0</td>\n",
       "    </tr>\n",
       "    <tr>\n",
       "      <th>6</th>\n",
       "      <td>7</td>\n",
       "      <td>1</td>\n",
       "      <td>0</td>\n",
       "      <td>0</td>\n",
       "      <td>0</td>\n",
       "      <td>0</td>\n",
       "      <td>0</td>\n",
       "      <td>1</td>\n",
       "      <td>1</td>\n",
       "      <td>1</td>\n",
       "      <td>0</td>\n",
       "      <td>28.427971</td>\n",
       "      <td>f</td>\n",
       "      <td>Pasifika</td>\n",
       "      <td>no</td>\n",
       "      <td>no</td>\n",
       "      <td>United Kingdom</td>\n",
       "      <td>no</td>\n",
       "      <td>7.984569</td>\n",
       "      <td>18 and more</td>\n",
       "      <td>Self</td>\n",
       "      <td>0</td>\n",
       "    </tr>\n",
       "    <tr>\n",
       "      <th>7</th>\n",
       "      <td>8</td>\n",
       "      <td>1</td>\n",
       "      <td>1</td>\n",
       "      <td>1</td>\n",
       "      <td>1</td>\n",
       "      <td>1</td>\n",
       "      <td>1</td>\n",
       "      <td>1</td>\n",
       "      <td>0</td>\n",
       "      <td>1</td>\n",
       "      <td>1</td>\n",
       "      <td>26.484494</td>\n",
       "      <td>m</td>\n",
       "      <td>Black</td>\n",
       "      <td>no</td>\n",
       "      <td>yes</td>\n",
       "      <td>United States</td>\n",
       "      <td>no</td>\n",
       "      <td>13.237898</td>\n",
       "      <td>18 and more</td>\n",
       "      <td>Self</td>\n",
       "      <td>1</td>\n",
       "    </tr>\n",
       "    <tr>\n",
       "      <th>8</th>\n",
       "      <td>9</td>\n",
       "      <td>1</td>\n",
       "      <td>1</td>\n",
       "      <td>1</td>\n",
       "      <td>1</td>\n",
       "      <td>0</td>\n",
       "      <td>0</td>\n",
       "      <td>0</td>\n",
       "      <td>1</td>\n",
       "      <td>1</td>\n",
       "      <td>1</td>\n",
       "      <td>48.203459</td>\n",
       "      <td>m</td>\n",
       "      <td>White-European</td>\n",
       "      <td>no</td>\n",
       "      <td>no</td>\n",
       "      <td>Brazil</td>\n",
       "      <td>no</td>\n",
       "      <td>-1.755774</td>\n",
       "      <td>18 and more</td>\n",
       "      <td>Self</td>\n",
       "      <td>0</td>\n",
       "    </tr>\n",
       "    <tr>\n",
       "      <th>9</th>\n",
       "      <td>10</td>\n",
       "      <td>0</td>\n",
       "      <td>0</td>\n",
       "      <td>0</td>\n",
       "      <td>0</td>\n",
       "      <td>0</td>\n",
       "      <td>0</td>\n",
       "      <td>0</td>\n",
       "      <td>1</td>\n",
       "      <td>0</td>\n",
       "      <td>1</td>\n",
       "      <td>24.167945</td>\n",
       "      <td>f</td>\n",
       "      <td>Others</td>\n",
       "      <td>yes</td>\n",
       "      <td>no</td>\n",
       "      <td>New Zealand</td>\n",
       "      <td>no</td>\n",
       "      <td>14.922570</td>\n",
       "      <td>18 and more</td>\n",
       "      <td>Self</td>\n",
       "      <td>0</td>\n",
       "    </tr>\n",
       "  </tbody>\n",
       "</table>\n",
       "</div>"
      ],
      "text/plain": [
       "   ID  A1_Score  A2_Score  A3_Score  A4_Score  A5_Score  A6_Score  A7_Score  \\\n",
       "0   1         1         0         1         0         1         0         1   \n",
       "1   2         0         0         0         0         0         0         0   \n",
       "2   3         1         1         1         1         1         1         1   \n",
       "3   4         0         0         0         0         0         0         0   \n",
       "4   5         0         0         0         0         0         0         0   \n",
       "5   6         1         0         0         0         0         1         0   \n",
       "6   7         1         0         0         0         0         0         1   \n",
       "7   8         1         1         1         1         1         1         1   \n",
       "8   9         1         1         1         1         0         0         0   \n",
       "9  10         0         0         0         0         0         0         0   \n",
       "\n",
       "   A8_Score  A9_Score  A10_Score        age gender        ethnicity jaundice  \\\n",
       "0         0         1          1  38.172746      f                ?       no   \n",
       "1         0         0          0  47.750517      m                ?       no   \n",
       "2         1         1          1   7.380373      m   White-European       no   \n",
       "3         0         0          0  23.561927      f                ?       no   \n",
       "4         0         0          0  43.205790      m                ?       no   \n",
       "5         0         1          1  31.527964      m  Middle Eastern        no   \n",
       "6         1         1          0  28.427971      f         Pasifika       no   \n",
       "7         0         1          1  26.484494      m            Black       no   \n",
       "8         1         1          1  48.203459      m   White-European       no   \n",
       "9         1         0          1  24.167945      f           Others      yes   \n",
       "\n",
       "  austim   contry_of_res used_app_before     result     age_desc relation  \\\n",
       "0     no         Austria              no   6.351166  18 and more     Self   \n",
       "1     no           India              no   2.255185  18 and more     Self   \n",
       "2    yes   United States              no  14.851484  18 and more     Self   \n",
       "3     no   United States              no   2.276617  18 and more     Self   \n",
       "4     no    South Africa              no  -4.777286  18 and more     Self   \n",
       "5     no          Jordan              no   9.562117  18 and more     Self   \n",
       "6     no  United Kingdom              no   7.984569  18 and more     Self   \n",
       "7    yes   United States              no  13.237898  18 and more     Self   \n",
       "8     no          Brazil              no  -1.755774  18 and more     Self   \n",
       "9     no     New Zealand              no  14.922570  18 and more     Self   \n",
       "\n",
       "   Class/ASD  \n",
       "0          0  \n",
       "1          0  \n",
       "2          1  \n",
       "3          0  \n",
       "4          0  \n",
       "5          0  \n",
       "6          0  \n",
       "7          1  \n",
       "8          0  \n",
       "9          0  "
      ]
     },
     "execution_count": 1502,
     "metadata": {},
     "output_type": "execute_result"
    }
   ],
   "source": [
    "Traindf.head(10)"
   ]
  },
  {
   "cell_type": "code",
   "execution_count": 1503,
   "metadata": {},
   "outputs": [
    {
     "data": {
      "text/html": [
       "<div>\n",
       "<style scoped>\n",
       "    .dataframe tbody tr th:only-of-type {\n",
       "        vertical-align: middle;\n",
       "    }\n",
       "\n",
       "    .dataframe tbody tr th {\n",
       "        vertical-align: top;\n",
       "    }\n",
       "\n",
       "    .dataframe thead th {\n",
       "        text-align: right;\n",
       "    }\n",
       "</style>\n",
       "<table border=\"1\" class=\"dataframe\">\n",
       "  <thead>\n",
       "    <tr style=\"text-align: right;\">\n",
       "      <th></th>\n",
       "      <th>ID</th>\n",
       "      <th>A1_Score</th>\n",
       "      <th>A2_Score</th>\n",
       "      <th>A3_Score</th>\n",
       "      <th>A4_Score</th>\n",
       "      <th>A5_Score</th>\n",
       "      <th>A6_Score</th>\n",
       "      <th>A7_Score</th>\n",
       "      <th>A8_Score</th>\n",
       "      <th>A9_Score</th>\n",
       "      <th>A10_Score</th>\n",
       "      <th>age</th>\n",
       "      <th>gender</th>\n",
       "      <th>ethnicity</th>\n",
       "      <th>jaundice</th>\n",
       "      <th>austim</th>\n",
       "      <th>contry_of_res</th>\n",
       "      <th>used_app_before</th>\n",
       "      <th>result</th>\n",
       "      <th>age_desc</th>\n",
       "      <th>relation</th>\n",
       "      <th>Class/ASD</th>\n",
       "    </tr>\n",
       "  </thead>\n",
       "  <tbody>\n",
       "    <tr>\n",
       "      <th>count</th>\n",
       "      <td>800.0000</td>\n",
       "      <td>800.000000</td>\n",
       "      <td>800.000000</td>\n",
       "      <td>800.000000</td>\n",
       "      <td>800.00000</td>\n",
       "      <td>800.000000</td>\n",
       "      <td>800.000000</td>\n",
       "      <td>800.000000</td>\n",
       "      <td>800.000000</td>\n",
       "      <td>800.000000</td>\n",
       "      <td>800.000000</td>\n",
       "      <td>800.000000</td>\n",
       "      <td>800</td>\n",
       "      <td>800</td>\n",
       "      <td>800</td>\n",
       "      <td>800</td>\n",
       "      <td>800</td>\n",
       "      <td>800</td>\n",
       "      <td>800.000000</td>\n",
       "      <td>800</td>\n",
       "      <td>800</td>\n",
       "      <td>800.000000</td>\n",
       "    </tr>\n",
       "    <tr>\n",
       "      <th>unique</th>\n",
       "      <td>NaN</td>\n",
       "      <td>NaN</td>\n",
       "      <td>NaN</td>\n",
       "      <td>NaN</td>\n",
       "      <td>NaN</td>\n",
       "      <td>NaN</td>\n",
       "      <td>NaN</td>\n",
       "      <td>NaN</td>\n",
       "      <td>NaN</td>\n",
       "      <td>NaN</td>\n",
       "      <td>NaN</td>\n",
       "      <td>NaN</td>\n",
       "      <td>2</td>\n",
       "      <td>12</td>\n",
       "      <td>2</td>\n",
       "      <td>2</td>\n",
       "      <td>56</td>\n",
       "      <td>2</td>\n",
       "      <td>NaN</td>\n",
       "      <td>1</td>\n",
       "      <td>6</td>\n",
       "      <td>NaN</td>\n",
       "    </tr>\n",
       "    <tr>\n",
       "      <th>top</th>\n",
       "      <td>NaN</td>\n",
       "      <td>NaN</td>\n",
       "      <td>NaN</td>\n",
       "      <td>NaN</td>\n",
       "      <td>NaN</td>\n",
       "      <td>NaN</td>\n",
       "      <td>NaN</td>\n",
       "      <td>NaN</td>\n",
       "      <td>NaN</td>\n",
       "      <td>NaN</td>\n",
       "      <td>NaN</td>\n",
       "      <td>NaN</td>\n",
       "      <td>m</td>\n",
       "      <td>White-European</td>\n",
       "      <td>no</td>\n",
       "      <td>no</td>\n",
       "      <td>United States</td>\n",
       "      <td>no</td>\n",
       "      <td>NaN</td>\n",
       "      <td>18 and more</td>\n",
       "      <td>Self</td>\n",
       "      <td>NaN</td>\n",
       "    </tr>\n",
       "    <tr>\n",
       "      <th>freq</th>\n",
       "      <td>NaN</td>\n",
       "      <td>NaN</td>\n",
       "      <td>NaN</td>\n",
       "      <td>NaN</td>\n",
       "      <td>NaN</td>\n",
       "      <td>NaN</td>\n",
       "      <td>NaN</td>\n",
       "      <td>NaN</td>\n",
       "      <td>NaN</td>\n",
       "      <td>NaN</td>\n",
       "      <td>NaN</td>\n",
       "      <td>NaN</td>\n",
       "      <td>530</td>\n",
       "      <td>257</td>\n",
       "      <td>615</td>\n",
       "      <td>669</td>\n",
       "      <td>134</td>\n",
       "      <td>750</td>\n",
       "      <td>NaN</td>\n",
       "      <td>800</td>\n",
       "      <td>709</td>\n",
       "      <td>NaN</td>\n",
       "    </tr>\n",
       "    <tr>\n",
       "      <th>mean</th>\n",
       "      <td>400.5000</td>\n",
       "      <td>0.560000</td>\n",
       "      <td>0.530000</td>\n",
       "      <td>0.450000</td>\n",
       "      <td>0.41500</td>\n",
       "      <td>0.395000</td>\n",
       "      <td>0.303750</td>\n",
       "      <td>0.397500</td>\n",
       "      <td>0.508750</td>\n",
       "      <td>0.495000</td>\n",
       "      <td>0.617500</td>\n",
       "      <td>28.452118</td>\n",
       "      <td>NaN</td>\n",
       "      <td>NaN</td>\n",
       "      <td>NaN</td>\n",
       "      <td>NaN</td>\n",
       "      <td>NaN</td>\n",
       "      <td>NaN</td>\n",
       "      <td>8.537303</td>\n",
       "      <td>NaN</td>\n",
       "      <td>NaN</td>\n",
       "      <td>0.201250</td>\n",
       "    </tr>\n",
       "    <tr>\n",
       "      <th>std</th>\n",
       "      <td>231.0844</td>\n",
       "      <td>0.496697</td>\n",
       "      <td>0.499411</td>\n",
       "      <td>0.497805</td>\n",
       "      <td>0.49303</td>\n",
       "      <td>0.489157</td>\n",
       "      <td>0.460164</td>\n",
       "      <td>0.489687</td>\n",
       "      <td>0.500236</td>\n",
       "      <td>0.500288</td>\n",
       "      <td>0.486302</td>\n",
       "      <td>16.310966</td>\n",
       "      <td>NaN</td>\n",
       "      <td>NaN</td>\n",
       "      <td>NaN</td>\n",
       "      <td>NaN</td>\n",
       "      <td>NaN</td>\n",
       "      <td>NaN</td>\n",
       "      <td>4.807676</td>\n",
       "      <td>NaN</td>\n",
       "      <td>NaN</td>\n",
       "      <td>0.401185</td>\n",
       "    </tr>\n",
       "    <tr>\n",
       "      <th>min</th>\n",
       "      <td>1.0000</td>\n",
       "      <td>0.000000</td>\n",
       "      <td>0.000000</td>\n",
       "      <td>0.000000</td>\n",
       "      <td>0.00000</td>\n",
       "      <td>0.000000</td>\n",
       "      <td>0.000000</td>\n",
       "      <td>0.000000</td>\n",
       "      <td>0.000000</td>\n",
       "      <td>0.000000</td>\n",
       "      <td>0.000000</td>\n",
       "      <td>2.718550</td>\n",
       "      <td>NaN</td>\n",
       "      <td>NaN</td>\n",
       "      <td>NaN</td>\n",
       "      <td>NaN</td>\n",
       "      <td>NaN</td>\n",
       "      <td>NaN</td>\n",
       "      <td>-6.137748</td>\n",
       "      <td>NaN</td>\n",
       "      <td>NaN</td>\n",
       "      <td>0.000000</td>\n",
       "    </tr>\n",
       "    <tr>\n",
       "      <th>25%</th>\n",
       "      <td>200.7500</td>\n",
       "      <td>0.000000</td>\n",
       "      <td>0.000000</td>\n",
       "      <td>0.000000</td>\n",
       "      <td>0.00000</td>\n",
       "      <td>0.000000</td>\n",
       "      <td>0.000000</td>\n",
       "      <td>0.000000</td>\n",
       "      <td>0.000000</td>\n",
       "      <td>0.000000</td>\n",
       "      <td>0.000000</td>\n",
       "      <td>17.198153</td>\n",
       "      <td>NaN</td>\n",
       "      <td>NaN</td>\n",
       "      <td>NaN</td>\n",
       "      <td>NaN</td>\n",
       "      <td>NaN</td>\n",
       "      <td>NaN</td>\n",
       "      <td>5.306575</td>\n",
       "      <td>NaN</td>\n",
       "      <td>NaN</td>\n",
       "      <td>0.000000</td>\n",
       "    </tr>\n",
       "    <tr>\n",
       "      <th>50%</th>\n",
       "      <td>400.5000</td>\n",
       "      <td>1.000000</td>\n",
       "      <td>1.000000</td>\n",
       "      <td>0.000000</td>\n",
       "      <td>0.00000</td>\n",
       "      <td>0.000000</td>\n",
       "      <td>0.000000</td>\n",
       "      <td>0.000000</td>\n",
       "      <td>1.000000</td>\n",
       "      <td>0.000000</td>\n",
       "      <td>1.000000</td>\n",
       "      <td>24.848350</td>\n",
       "      <td>NaN</td>\n",
       "      <td>NaN</td>\n",
       "      <td>NaN</td>\n",
       "      <td>NaN</td>\n",
       "      <td>NaN</td>\n",
       "      <td>NaN</td>\n",
       "      <td>9.605299</td>\n",
       "      <td>NaN</td>\n",
       "      <td>NaN</td>\n",
       "      <td>0.000000</td>\n",
       "    </tr>\n",
       "    <tr>\n",
       "      <th>75%</th>\n",
       "      <td>600.2500</td>\n",
       "      <td>1.000000</td>\n",
       "      <td>1.000000</td>\n",
       "      <td>1.000000</td>\n",
       "      <td>1.00000</td>\n",
       "      <td>1.000000</td>\n",
       "      <td>1.000000</td>\n",
       "      <td>1.000000</td>\n",
       "      <td>1.000000</td>\n",
       "      <td>1.000000</td>\n",
       "      <td>1.000000</td>\n",
       "      <td>35.865429</td>\n",
       "      <td>NaN</td>\n",
       "      <td>NaN</td>\n",
       "      <td>NaN</td>\n",
       "      <td>NaN</td>\n",
       "      <td>NaN</td>\n",
       "      <td>NaN</td>\n",
       "      <td>12.514484</td>\n",
       "      <td>NaN</td>\n",
       "      <td>NaN</td>\n",
       "      <td>0.000000</td>\n",
       "    </tr>\n",
       "    <tr>\n",
       "      <th>max</th>\n",
       "      <td>800.0000</td>\n",
       "      <td>1.000000</td>\n",
       "      <td>1.000000</td>\n",
       "      <td>1.000000</td>\n",
       "      <td>1.00000</td>\n",
       "      <td>1.000000</td>\n",
       "      <td>1.000000</td>\n",
       "      <td>1.000000</td>\n",
       "      <td>1.000000</td>\n",
       "      <td>1.000000</td>\n",
       "      <td>1.000000</td>\n",
       "      <td>89.461718</td>\n",
       "      <td>NaN</td>\n",
       "      <td>NaN</td>\n",
       "      <td>NaN</td>\n",
       "      <td>NaN</td>\n",
       "      <td>NaN</td>\n",
       "      <td>NaN</td>\n",
       "      <td>15.853126</td>\n",
       "      <td>NaN</td>\n",
       "      <td>NaN</td>\n",
       "      <td>1.000000</td>\n",
       "    </tr>\n",
       "  </tbody>\n",
       "</table>\n",
       "</div>"
      ],
      "text/plain": [
       "              ID    A1_Score    A2_Score    A3_Score   A4_Score    A5_Score  \\\n",
       "count   800.0000  800.000000  800.000000  800.000000  800.00000  800.000000   \n",
       "unique       NaN         NaN         NaN         NaN        NaN         NaN   \n",
       "top          NaN         NaN         NaN         NaN        NaN         NaN   \n",
       "freq         NaN         NaN         NaN         NaN        NaN         NaN   \n",
       "mean    400.5000    0.560000    0.530000    0.450000    0.41500    0.395000   \n",
       "std     231.0844    0.496697    0.499411    0.497805    0.49303    0.489157   \n",
       "min       1.0000    0.000000    0.000000    0.000000    0.00000    0.000000   \n",
       "25%     200.7500    0.000000    0.000000    0.000000    0.00000    0.000000   \n",
       "50%     400.5000    1.000000    1.000000    0.000000    0.00000    0.000000   \n",
       "75%     600.2500    1.000000    1.000000    1.000000    1.00000    1.000000   \n",
       "max     800.0000    1.000000    1.000000    1.000000    1.00000    1.000000   \n",
       "\n",
       "          A6_Score    A7_Score    A8_Score    A9_Score   A10_Score  \\\n",
       "count   800.000000  800.000000  800.000000  800.000000  800.000000   \n",
       "unique         NaN         NaN         NaN         NaN         NaN   \n",
       "top            NaN         NaN         NaN         NaN         NaN   \n",
       "freq           NaN         NaN         NaN         NaN         NaN   \n",
       "mean      0.303750    0.397500    0.508750    0.495000    0.617500   \n",
       "std       0.460164    0.489687    0.500236    0.500288    0.486302   \n",
       "min       0.000000    0.000000    0.000000    0.000000    0.000000   \n",
       "25%       0.000000    0.000000    0.000000    0.000000    0.000000   \n",
       "50%       0.000000    0.000000    1.000000    0.000000    1.000000   \n",
       "75%       1.000000    1.000000    1.000000    1.000000    1.000000   \n",
       "max       1.000000    1.000000    1.000000    1.000000    1.000000   \n",
       "\n",
       "               age gender       ethnicity jaundice austim  contry_of_res  \\\n",
       "count   800.000000    800             800      800    800            800   \n",
       "unique         NaN      2              12        2      2             56   \n",
       "top            NaN      m  White-European       no     no  United States   \n",
       "freq           NaN    530             257      615    669            134   \n",
       "mean     28.452118    NaN             NaN      NaN    NaN            NaN   \n",
       "std      16.310966    NaN             NaN      NaN    NaN            NaN   \n",
       "min       2.718550    NaN             NaN      NaN    NaN            NaN   \n",
       "25%      17.198153    NaN             NaN      NaN    NaN            NaN   \n",
       "50%      24.848350    NaN             NaN      NaN    NaN            NaN   \n",
       "75%      35.865429    NaN             NaN      NaN    NaN            NaN   \n",
       "max      89.461718    NaN             NaN      NaN    NaN            NaN   \n",
       "\n",
       "       used_app_before      result     age_desc relation   Class/ASD  \n",
       "count              800  800.000000          800      800  800.000000  \n",
       "unique               2         NaN            1        6         NaN  \n",
       "top                 no         NaN  18 and more     Self         NaN  \n",
       "freq               750         NaN          800      709         NaN  \n",
       "mean               NaN    8.537303          NaN      NaN    0.201250  \n",
       "std                NaN    4.807676          NaN      NaN    0.401185  \n",
       "min                NaN   -6.137748          NaN      NaN    0.000000  \n",
       "25%                NaN    5.306575          NaN      NaN    0.000000  \n",
       "50%                NaN    9.605299          NaN      NaN    0.000000  \n",
       "75%                NaN   12.514484          NaN      NaN    0.000000  \n",
       "max                NaN   15.853126          NaN      NaN    1.000000  "
      ]
     },
     "execution_count": 1503,
     "metadata": {},
     "output_type": "execute_result"
    }
   ],
   "source": [
    "Traindf.describe(include='all')"
   ]
  },
  {
   "cell_type": "code",
   "execution_count": 1504,
   "metadata": {},
   "outputs": [
    {
     "data": {
      "text/plain": [
       "18 and more    800\n",
       "Name: age_desc, dtype: int64"
      ]
     },
     "execution_count": 1504,
     "metadata": {},
     "output_type": "execute_result"
    }
   ],
   "source": [
    "Traindf['age_desc'].value_counts()"
   ]
  },
  {
   "cell_type": "markdown",
   "metadata": {},
   "source": [
    "### Feature Elimination"
   ]
  },
  {
   "cell_type": "code",
   "execution_count": 1505,
   "metadata": {},
   "outputs": [],
   "source": [
    "# Traindf=Traindf.drop(['ID','age_desc'],axis=1)"
   ]
  },
  {
   "cell_type": "code",
   "execution_count": 1506,
   "metadata": {},
   "outputs": [],
   "source": [
    "Traindf=Traindf.drop(['ID','age_desc','gender','contry_of_res','used_app_before'],axis=1)"
   ]
  },
  {
   "cell_type": "markdown",
   "metadata": {},
   "source": [
    "### MISSING VALUES"
   ]
  },
  {
   "cell_type": "code",
   "execution_count": 1507,
   "metadata": {},
   "outputs": [
    {
     "data": {
      "text/plain": [
       "A1_Score     0\n",
       "A2_Score     0\n",
       "A3_Score     0\n",
       "A4_Score     0\n",
       "A5_Score     0\n",
       "A6_Score     0\n",
       "A7_Score     0\n",
       "A8_Score     0\n",
       "A9_Score     0\n",
       "A10_Score    0\n",
       "age          0\n",
       "ethnicity    0\n",
       "jaundice     0\n",
       "austim       0\n",
       "result       0\n",
       "relation     0\n",
       "Class/ASD    0\n",
       "dtype: int64"
      ]
     },
     "execution_count": 1507,
     "metadata": {},
     "output_type": "execute_result"
    }
   ],
   "source": [
    "Traindf.isna().sum()"
   ]
  },
  {
   "cell_type": "code",
   "execution_count": 1508,
   "metadata": {},
   "outputs": [],
   "source": [
    "Traindf = Traindf.replace(['?'],np.nan)"
   ]
  },
  {
   "cell_type": "code",
   "execution_count": 1509,
   "metadata": {},
   "outputs": [
    {
     "data": {
      "text/plain": [
       "A1_Score       0\n",
       "A2_Score       0\n",
       "A3_Score       0\n",
       "A4_Score       0\n",
       "A5_Score       0\n",
       "A6_Score       0\n",
       "A7_Score       0\n",
       "A8_Score       0\n",
       "A9_Score       0\n",
       "A10_Score      0\n",
       "age            0\n",
       "ethnicity    203\n",
       "jaundice       0\n",
       "austim         0\n",
       "result         0\n",
       "relation      40\n",
       "Class/ASD      0\n",
       "dtype: int64"
      ]
     },
     "execution_count": 1509,
     "metadata": {},
     "output_type": "execute_result"
    }
   ],
   "source": [
    "Traindf.isna().sum()"
   ]
  },
  {
   "cell_type": "markdown",
   "metadata": {},
   "source": [
    "### FILLING MISSING VALUE WITH THE MODE"
   ]
  },
  {
   "cell_type": "code",
   "execution_count": 1510,
   "metadata": {},
   "outputs": [],
   "source": [
    "for value in ['ethnicity','relation']:\n",
    "    Traindf[value].fillna(Traindf[value].mode()[0],inplace=True)"
   ]
  },
  {
   "cell_type": "code",
   "execution_count": 1511,
   "metadata": {},
   "outputs": [
    {
     "data": {
      "text/plain": [
       "A1_Score     0\n",
       "A2_Score     0\n",
       "A3_Score     0\n",
       "A4_Score     0\n",
       "A5_Score     0\n",
       "A6_Score     0\n",
       "A7_Score     0\n",
       "A8_Score     0\n",
       "A9_Score     0\n",
       "A10_Score    0\n",
       "age          0\n",
       "ethnicity    0\n",
       "jaundice     0\n",
       "austim       0\n",
       "result       0\n",
       "relation     0\n",
       "Class/ASD    0\n",
       "dtype: int64"
      ]
     },
     "execution_count": 1511,
     "metadata": {},
     "output_type": "execute_result"
    }
   ],
   "source": [
    "Traindf.isna().sum()"
   ]
  },
  {
   "cell_type": "markdown",
   "metadata": {},
   "source": [
    "### DETECTING OUTLIERS"
   ]
  },
  {
   "cell_type": "code",
   "execution_count": 1512,
   "metadata": {},
   "outputs": [
    {
     "data": {
      "image/png": "[encoded data removed]",
      "text/plain": [
       "<Figure size 432x288 with 1 Axes>"
      ]
     },
     "metadata": {
      "needs_background": "light"
     },
     "output_type": "display_data"
    },
    {
     "data": {
      "image/png": "[encoded data removed]",
      "text/plain": [
       "<Figure size 432x288 with 1 Axes>"
      ]
     },
     "metadata": {
      "needs_background": "light"
     },
     "output_type": "display_data"
    },
    {
     "data": {
      "image/png": "[encoded data removed]",
      "text/plain": [
       "<Figure size 432x288 with 1 Axes>"
      ]
     },
     "metadata": {
      "needs_background": "light"
     },
     "output_type": "display_data"
    },
    {
     "data": {
      "image/png": "[encoded data removed]",
      "text/plain": [
       "<Figure size 432x288 with 1 Axes>"
      ]
     },
     "metadata": {
      "needs_background": "light"
     },
     "output_type": "display_data"
    },
    {
     "data": {
      "image/png": "[encoded data removed]",
      "text/plain": [
       "<Figure size 432x288 with 1 Axes>"
      ]
     },
     "metadata": {
      "needs_background": "light"
     },
     "output_type": "display_data"
    },
    {
     "data": {
      "image/png": "[encoded data removed]",
      "text/plain": [
       "<Figure size 432x288 with 1 Axes>"
      ]
     },
     "metadata": {
      "needs_background": "light"
     },
     "output_type": "display_data"
    },
    {
     "data": {
      "image/png": "[encoded data removed]",
      "text/plain": [
       "<Figure size 432x288 with 1 Axes>"
      ]
     },
     "metadata": {
      "needs_background": "light"
     },
     "output_type": "display_data"
    },
    {
     "data": {
      "image/png": "[encoded data removed]",
      "text/plain": [
       "<Figure size 432x288 with 1 Axes>"
      ]
     },
     "metadata": {
      "needs_background": "light"
     },
     "output_type": "display_data"
    },
    {
     "data": {
      "image/png": "[encoded data removed]",
      "text/plain": [
       "<Figure size 432x288 with 1 Axes>"
      ]
     },
     "metadata": {
      "needs_background": "light"
     },
     "output_type": "display_data"
    },
    {
     "data": {
      "image/png": "[encoded data removed]",
      "text/plain": [
       "<Figure size 432x288 with 1 Axes>"
      ]
     },
     "metadata": {
      "needs_background": "light"
     },
     "output_type": "display_data"
    },
    {
     "data": {
      "image/png": "[encoded data removed]",
      "text/plain": [
       "<Figure size 432x288 with 1 Axes>"
      ]
     },
     "metadata": {
      "needs_background": "light"
     },
     "output_type": "display_data"
    },
    {
     "ename": "KeyError",
     "evalue": "\"None of [Index(['ethnicity'], dtype='object')] are in the [columns]\"",
     "output_type": "error",
     "traceback": [
      "\u001b[1;31m---------------------------------------------------------------------------\u001b[0m",
      "\u001b[1;31mKeyError\u001b[0m                                  Traceback (most recent call last)",
      "\u001b[1;32m<ipython-input-1512-96dbfff2d3fb>\u001b[0m in \u001b[0;36m<module>\u001b[1;34m\u001b[0m\n\u001b[0;32m      1\u001b[0m \u001b[1;32mfor\u001b[0m \u001b[0mi\u001b[0m \u001b[1;32min\u001b[0m \u001b[0mTraindf\u001b[0m\u001b[1;33m.\u001b[0m\u001b[0mcolumns\u001b[0m\u001b[1;33m:\u001b[0m\u001b[1;33m\u001b[0m\u001b[1;33m\u001b[0m\u001b[0m\n\u001b[1;32m----> 2\u001b[1;33m     \u001b[0mTraindf\u001b[0m\u001b[1;33m.\u001b[0m\u001b[0mboxplot\u001b[0m\u001b[1;33m(\u001b[0m\u001b[0mcolumn\u001b[0m\u001b[1;33m=\u001b[0m\u001b[0mi\u001b[0m\u001b[1;33m)\u001b[0m\u001b[1;33m\u001b[0m\u001b[1;33m\u001b[0m\u001b[0m\n\u001b[0m\u001b[0;32m      3\u001b[0m     \u001b[0mplt\u001b[0m\u001b[1;33m.\u001b[0m\u001b[0mshow\u001b[0m\u001b[1;33m(\u001b[0m\u001b[1;33m)\u001b[0m\u001b[1;33m\u001b[0m\u001b[1;33m\u001b[0m\u001b[0m\n",
      "\u001b[1;32m~\\Anaconda3\\lib\\site-packages\\pandas\\plotting\\_core.py\u001b[0m in \u001b[0;36mboxplot_frame\u001b[1;34m(self, column, by, ax, fontsize, rot, grid, figsize, layout, return_type, backend, **kwargs)\u001b[0m\n\u001b[0;32m    434\u001b[0m ):\n\u001b[0;32m    435\u001b[0m     \u001b[0mplot_backend\u001b[0m \u001b[1;33m=\u001b[0m \u001b[0m_get_plot_backend\u001b[0m\u001b[1;33m(\u001b[0m\u001b[0mbackend\u001b[0m\u001b[1;33m)\u001b[0m\u001b[1;33m\u001b[0m\u001b[1;33m\u001b[0m\u001b[0m\n\u001b[1;32m--> 436\u001b[1;33m     return plot_backend.boxplot_frame(\n\u001b[0m\u001b[0;32m    437\u001b[0m         \u001b[0mself\u001b[0m\u001b[1;33m,\u001b[0m\u001b[1;33m\u001b[0m\u001b[1;33m\u001b[0m\u001b[0m\n\u001b[0;32m    438\u001b[0m         \u001b[0mcolumn\u001b[0m\u001b[1;33m=\u001b[0m\u001b[0mcolumn\u001b[0m\u001b[1;33m,\u001b[0m\u001b[1;33m\u001b[0m\u001b[1;33m\u001b[0m\u001b[0m\n",
      "\u001b[1;32m~\\Anaconda3\\lib\\site-packages\\pandas\\plotting\\_matplotlib\\boxplot.py\u001b[0m in \u001b[0;36mboxplot_frame\u001b[1;34m(self, column, by, ax, fontsize, rot, grid, figsize, layout, return_type, **kwds)\u001b[0m\n\u001b[0;32m    362\u001b[0m     \u001b[1;32mimport\u001b[0m \u001b[0mmatplotlib\u001b[0m\u001b[1;33m.\u001b[0m\u001b[0mpyplot\u001b[0m \u001b[1;32mas\u001b[0m \u001b[0mplt\u001b[0m\u001b[1;33m\u001b[0m\u001b[1;33m\u001b[0m\u001b[0m\n\u001b[0;32m    363\u001b[0m \u001b[1;33m\u001b[0m\u001b[0m\n\u001b[1;32m--> 364\u001b[1;33m     ax = boxplot(\n\u001b[0m\u001b[0;32m    365\u001b[0m         \u001b[0mself\u001b[0m\u001b[1;33m,\u001b[0m\u001b[1;33m\u001b[0m\u001b[1;33m\u001b[0m\u001b[0m\n\u001b[0;32m    366\u001b[0m         \u001b[0mcolumn\u001b[0m\u001b[1;33m=\u001b[0m\u001b[0mcolumn\u001b[0m\u001b[1;33m,\u001b[0m\u001b[1;33m\u001b[0m\u001b[1;33m\u001b[0m\u001b[0m\n",
      "\u001b[1;32m~\\Anaconda3\\lib\\site-packages\\pandas\\plotting\\_matplotlib\\boxplot.py\u001b[0m in \u001b[0;36mboxplot\u001b[1;34m(data, column, by, ax, fontsize, rot, grid, figsize, layout, return_type, **kwds)\u001b[0m\n\u001b[0;32m    339\u001b[0m             \u001b[0mcolumns\u001b[0m \u001b[1;33m=\u001b[0m \u001b[0mdata\u001b[0m\u001b[1;33m.\u001b[0m\u001b[0mcolumns\u001b[0m\u001b[1;33m\u001b[0m\u001b[1;33m\u001b[0m\u001b[0m\n\u001b[0;32m    340\u001b[0m         \u001b[1;32melse\u001b[0m\u001b[1;33m:\u001b[0m\u001b[1;33m\u001b[0m\u001b[1;33m\u001b[0m\u001b[0m\n\u001b[1;32m--> 341\u001b[1;33m             \u001b[0mdata\u001b[0m \u001b[1;33m=\u001b[0m \u001b[0mdata\u001b[0m\u001b[1;33m[\u001b[0m\u001b[0mcolumns\u001b[0m\u001b[1;33m]\u001b[0m\u001b[1;33m\u001b[0m\u001b[1;33m\u001b[0m\u001b[0m\n\u001b[0m\u001b[0;32m    342\u001b[0m \u001b[1;33m\u001b[0m\u001b[0m\n\u001b[0;32m    343\u001b[0m         \u001b[0mresult\u001b[0m \u001b[1;33m=\u001b[0m \u001b[0mplot_group\u001b[0m\u001b[1;33m(\u001b[0m\u001b[0mcolumns\u001b[0m\u001b[1;33m,\u001b[0m \u001b[0mdata\u001b[0m\u001b[1;33m.\u001b[0m\u001b[0mvalues\u001b[0m\u001b[1;33m.\u001b[0m\u001b[0mT\u001b[0m\u001b[1;33m,\u001b[0m \u001b[0max\u001b[0m\u001b[1;33m)\u001b[0m\u001b[1;33m\u001b[0m\u001b[1;33m\u001b[0m\u001b[0m\n",
      "\u001b[1;32m~\\Anaconda3\\lib\\site-packages\\pandas\\core\\frame.py\u001b[0m in \u001b[0;36m__getitem__\u001b[1;34m(self, key)\u001b[0m\n\u001b[0;32m   2804\u001b[0m             \u001b[1;32mif\u001b[0m \u001b[0mis_iterator\u001b[0m\u001b[1;33m(\u001b[0m\u001b[0mkey\u001b[0m\u001b[1;33m)\u001b[0m\u001b[1;33m:\u001b[0m\u001b[1;33m\u001b[0m\u001b[1;33m\u001b[0m\u001b[0m\n\u001b[0;32m   2805\u001b[0m                 \u001b[0mkey\u001b[0m \u001b[1;33m=\u001b[0m \u001b[0mlist\u001b[0m\u001b[1;33m(\u001b[0m\u001b[0mkey\u001b[0m\u001b[1;33m)\u001b[0m\u001b[1;33m\u001b[0m\u001b[1;33m\u001b[0m\u001b[0m\n\u001b[1;32m-> 2806\u001b[1;33m             \u001b[0mindexer\u001b[0m \u001b[1;33m=\u001b[0m \u001b[0mself\u001b[0m\u001b[1;33m.\u001b[0m\u001b[0mloc\u001b[0m\u001b[1;33m.\u001b[0m\u001b[0m_get_listlike_indexer\u001b[0m\u001b[1;33m(\u001b[0m\u001b[0mkey\u001b[0m\u001b[1;33m,\u001b[0m \u001b[0maxis\u001b[0m\u001b[1;33m=\u001b[0m\u001b[1;36m1\u001b[0m\u001b[1;33m,\u001b[0m \u001b[0mraise_missing\u001b[0m\u001b[1;33m=\u001b[0m\u001b[1;32mTrue\u001b[0m\u001b[1;33m)\u001b[0m\u001b[1;33m[\u001b[0m\u001b[1;36m1\u001b[0m\u001b[1;33m]\u001b[0m\u001b[1;33m\u001b[0m\u001b[1;33m\u001b[0m\u001b[0m\n\u001b[0m\u001b[0;32m   2807\u001b[0m \u001b[1;33m\u001b[0m\u001b[0m\n\u001b[0;32m   2808\u001b[0m         \u001b[1;31m# take() does not accept boolean indexers\u001b[0m\u001b[1;33m\u001b[0m\u001b[1;33m\u001b[0m\u001b[1;33m\u001b[0m\u001b[0m\n",
      "\u001b[1;32m~\\Anaconda3\\lib\\site-packages\\pandas\\core\\indexing.py\u001b[0m in \u001b[0;36m_get_listlike_indexer\u001b[1;34m(self, key, axis, raise_missing)\u001b[0m\n\u001b[0;32m   1550\u001b[0m             \u001b[0mkeyarr\u001b[0m\u001b[1;33m,\u001b[0m \u001b[0mindexer\u001b[0m\u001b[1;33m,\u001b[0m \u001b[0mnew_indexer\u001b[0m \u001b[1;33m=\u001b[0m \u001b[0max\u001b[0m\u001b[1;33m.\u001b[0m\u001b[0m_reindex_non_unique\u001b[0m\u001b[1;33m(\u001b[0m\u001b[0mkeyarr\u001b[0m\u001b[1;33m)\u001b[0m\u001b[1;33m\u001b[0m\u001b[1;33m\u001b[0m\u001b[0m\n\u001b[0;32m   1551\u001b[0m \u001b[1;33m\u001b[0m\u001b[0m\n\u001b[1;32m-> 1552\u001b[1;33m         self._validate_read_indexer(\n\u001b[0m\u001b[0;32m   1553\u001b[0m             \u001b[0mkeyarr\u001b[0m\u001b[1;33m,\u001b[0m \u001b[0mindexer\u001b[0m\u001b[1;33m,\u001b[0m \u001b[0mo\u001b[0m\u001b[1;33m.\u001b[0m\u001b[0m_get_axis_number\u001b[0m\u001b[1;33m(\u001b[0m\u001b[0maxis\u001b[0m\u001b[1;33m)\u001b[0m\u001b[1;33m,\u001b[0m \u001b[0mraise_missing\u001b[0m\u001b[1;33m=\u001b[0m\u001b[0mraise_missing\u001b[0m\u001b[1;33m\u001b[0m\u001b[1;33m\u001b[0m\u001b[0m\n\u001b[0;32m   1554\u001b[0m         )\n",
      "\u001b[1;32m~\\Anaconda3\\lib\\site-packages\\pandas\\core\\indexing.py\u001b[0m in \u001b[0;36m_validate_read_indexer\u001b[1;34m(self, key, indexer, axis, raise_missing)\u001b[0m\n\u001b[0;32m   1638\u001b[0m             \u001b[1;32mif\u001b[0m \u001b[0mmissing\u001b[0m \u001b[1;33m==\u001b[0m \u001b[0mlen\u001b[0m\u001b[1;33m(\u001b[0m\u001b[0mindexer\u001b[0m\u001b[1;33m)\u001b[0m\u001b[1;33m:\u001b[0m\u001b[1;33m\u001b[0m\u001b[1;33m\u001b[0m\u001b[0m\n\u001b[0;32m   1639\u001b[0m                 \u001b[0maxis_name\u001b[0m \u001b[1;33m=\u001b[0m \u001b[0mself\u001b[0m\u001b[1;33m.\u001b[0m\u001b[0mobj\u001b[0m\u001b[1;33m.\u001b[0m\u001b[0m_get_axis_name\u001b[0m\u001b[1;33m(\u001b[0m\u001b[0maxis\u001b[0m\u001b[1;33m)\u001b[0m\u001b[1;33m\u001b[0m\u001b[1;33m\u001b[0m\u001b[0m\n\u001b[1;32m-> 1640\u001b[1;33m                 \u001b[1;32mraise\u001b[0m \u001b[0mKeyError\u001b[0m\u001b[1;33m(\u001b[0m\u001b[1;34mf\"None of [{key}] are in the [{axis_name}]\"\u001b[0m\u001b[1;33m)\u001b[0m\u001b[1;33m\u001b[0m\u001b[1;33m\u001b[0m\u001b[0m\n\u001b[0m\u001b[0;32m   1641\u001b[0m \u001b[1;33m\u001b[0m\u001b[0m\n\u001b[0;32m   1642\u001b[0m             \u001b[1;31m# We (temporarily) allow for some missing keys with .loc, except in\u001b[0m\u001b[1;33m\u001b[0m\u001b[1;33m\u001b[0m\u001b[1;33m\u001b[0m\u001b[0m\n",
      "\u001b[1;31mKeyError\u001b[0m: \"None of [Index(['ethnicity'], dtype='object')] are in the [columns]\""
     ]
    },
    {
     "data": {
      "image/png": "[encoded data removed]",
      "text/plain": [
       "<Figure size 432x288 with 1 Axes>"
      ]
     },
     "metadata": {
      "needs_background": "light"
     },
     "output_type": "display_data"
    }
   ],
   "source": [
    "for i in Traindf.columns:\n",
    "    Traindf.boxplot(column=i)\n",
    "    plt.show()"
   ]
  },
  {
   "cell_type": "code",
   "execution_count": null,
   "metadata": {},
   "outputs": [],
   "source": [
    "Traindf['A1_Score'].value_counts()"
   ]
  },
  {
   "cell_type": "code",
   "execution_count": null,
   "metadata": {},
   "outputs": [],
   "source": [
    "Traindf['gender'].value_counts()"
   ]
  },
  {
   "cell_type": "code",
   "execution_count": null,
   "metadata": {},
   "outputs": [],
   "source": [
    "Traindf['austim'].value_counts()"
   ]
  },
  {
   "cell_type": "code",
   "execution_count": null,
   "metadata": {},
   "outputs": [],
   "source": [
    "Traindf['jaundice'].value_counts()"
   ]
  },
  {
   "cell_type": "code",
   "execution_count": null,
   "metadata": {},
   "outputs": [],
   "source": [
    "Traindf['relation'].value_counts()"
   ]
  },
  {
   "cell_type": "code",
   "execution_count": null,
   "metadata": {},
   "outputs": [],
   "source": [
    "Traindf['Class/ASD'].value_counts()"
   ]
  },
  {
   "cell_type": "code",
   "execution_count": 1513,
   "metadata": {},
   "outputs": [
    {
     "name": "stdout",
     "output_type": "stream",
     "text": [
      "ethnicity : object\n",
      "jaundice : object\n",
      "austim : object\n",
      "relation : object\n"
     ]
    }
   ],
   "source": [
    "for i in Traindf.columns:\n",
    "    if Traindf.dtypes[i]=='object':\n",
    "        print(i,':', Traindf.dtypes[i])"
   ]
  },
  {
   "cell_type": "code",
   "execution_count": 1514,
   "metadata": {},
   "outputs": [
    {
     "data": {
      "text/plain": [
       "White-European     460\n",
       "Middle Eastern      97\n",
       "Asian               67\n",
       "Black               47\n",
       "South Asian         34\n",
       "Pasifika            32\n",
       "Others              29\n",
       "Latino              17\n",
       "Hispanic             9\n",
       "Turkish              5\n",
       "others               3\n",
       "Name: ethnicity, dtype: int64"
      ]
     },
     "execution_count": 1514,
     "metadata": {},
     "output_type": "execute_result"
    }
   ],
   "source": [
    "Traindf['ethnicity'].value_counts()"
   ]
  },
  {
   "cell_type": "code",
   "execution_count": 1515,
   "metadata": {},
   "outputs": [
    {
     "data": {
      "text/plain": [
       "11"
      ]
     },
     "execution_count": 1515,
     "metadata": {},
     "output_type": "execute_result"
    }
   ],
   "source": [
    "Traindf['ethnicity'].nunique()"
   ]
  },
  {
   "cell_type": "code",
   "execution_count": 1516,
   "metadata": {},
   "outputs": [],
   "source": [
    "# Traindf_new = pd.get_dummies(Traindf)\n",
    "# Traindf_new"
   ]
  },
  {
   "cell_type": "markdown",
   "metadata": {},
   "source": [
    "### LABEL ENCODING"
   ]
  },
  {
   "cell_type": "code",
   "execution_count": 1517,
   "metadata": {},
   "outputs": [
    {
     "data": {
      "text/plain": [
       "['ethnicity', 'jaundice', 'austim', 'relation']"
      ]
     },
     "execution_count": 1517,
     "metadata": {},
     "output_type": "execute_result"
    }
   ],
   "source": [
    "colname=[]\n",
    "for i in Traindf.columns:\n",
    "    if Traindf.dtypes[i]=='object':\n",
    "        colname.append(i)\n",
    "colname"
   ]
  },
  {
   "cell_type": "code",
   "execution_count": 1518,
   "metadata": {},
   "outputs": [],
   "source": [
    "objCol=[i for i in Traindf.columns if Traindf.dtypes[i]=='object'] #Storing object columns in list"
   ]
  },
  {
   "cell_type": "code",
   "execution_count": 1519,
   "metadata": {},
   "outputs": [
    {
     "data": {
      "text/plain": [
       "['ethnicity', 'jaundice', 'austim', 'relation']"
      ]
     },
     "execution_count": 1519,
     "metadata": {},
     "output_type": "execute_result"
    }
   ],
   "source": [
    "objCol"
   ]
  },
  {
   "cell_type": "code",
   "execution_count": 1520,
   "metadata": {},
   "outputs": [
    {
     "name": "stdout",
     "output_type": "stream",
     "text": [
      "Feature ethnicity\n",
      "mapping {'Asian': 0, 'Black': 1, 'Hispanic': 2, 'Latino': 3, 'Middle Eastern ': 4, 'Others': 5, 'Pasifika': 6, 'South Asian': 7, 'Turkish': 8, 'White-European': 9, 'others': 10}\n",
      "Feature jaundice\n",
      "mapping {'no': 0, 'yes': 1}\n",
      "Feature austim\n",
      "mapping {'no': 0, 'yes': 1}\n",
      "Feature relation\n",
      "mapping {'Health care professional': 0, 'Others': 1, 'Parent': 2, 'Relative': 3, 'Self': 4}\n"
     ]
    }
   ],
   "source": [
    "#for preprocessing the data\n",
    "from sklearn import preprocessing\n",
    "le=preprocessing.LabelEncoder()\n",
    "for i in objCol:\n",
    "    Traindf[i]=le.fit_transform(Traindf[i])\n",
    "    le_name_mapping=dict(zip(le.classes_,le.transform(le.classes_)))\n",
    "    print('Feature', i )\n",
    "    print('mapping', le_name_mapping)"
   ]
  },
  {
   "cell_type": "code",
   "execution_count": 1521,
   "metadata": {},
   "outputs": [
    {
     "data": {
      "text/plain": [
       "A1_Score       int64\n",
       "A2_Score       int64\n",
       "A3_Score       int64\n",
       "A4_Score       int64\n",
       "A5_Score       int64\n",
       "A6_Score       int64\n",
       "A7_Score       int64\n",
       "A8_Score       int64\n",
       "A9_Score       int64\n",
       "A10_Score      int64\n",
       "age          float64\n",
       "ethnicity      int32\n",
       "jaundice       int32\n",
       "austim         int32\n",
       "result       float64\n",
       "relation       int32\n",
       "Class/ASD      int64\n",
       "dtype: object"
      ]
     },
     "execution_count": 1521,
     "metadata": {},
     "output_type": "execute_result"
    }
   ],
   "source": [
    "Traindf.dtypes"
   ]
  },
  {
   "cell_type": "code",
   "execution_count": 1522,
   "metadata": {},
   "outputs": [],
   "source": [
    "X=Traindf.iloc[:,0:-1]\n",
    "Y=Traindf['Class/ASD']"
   ]
  },
  {
   "cell_type": "code",
   "execution_count": 1523,
   "metadata": {},
   "outputs": [
    {
     "data": {
      "text/plain": [
       "(800, 16)"
      ]
     },
     "execution_count": 1523,
     "metadata": {},
     "output_type": "execute_result"
    }
   ],
   "source": [
    "X.shape"
   ]
  },
  {
   "cell_type": "code",
   "execution_count": 1524,
   "metadata": {},
   "outputs": [
    {
     "data": {
      "text/plain": [
       "(800,)"
      ]
     },
     "execution_count": 1524,
     "metadata": {},
     "output_type": "execute_result"
    }
   ],
   "source": [
    "Y.shape"
   ]
  },
  {
   "cell_type": "markdown",
   "metadata": {},
   "source": [
    "### STANDARDIZATION"
   ]
  },
  {
   "cell_type": "code",
   "execution_count": 1525,
   "metadata": {},
   "outputs": [],
   "source": [
    "from sklearn.preprocessing import StandardScaler\n",
    "scaler = StandardScaler()\n",
    "scaler.fit(X)\n",
    "X=scaler.transform(X)"
   ]
  },
  {
   "cell_type": "code",
   "execution_count": 1526,
   "metadata": {},
   "outputs": [],
   "source": [
    "Y=Y.astype(int)"
   ]
  },
  {
   "cell_type": "code",
   "execution_count": 1527,
   "metadata": {},
   "outputs": [
    {
     "name": "stdout",
     "output_type": "stream",
     "text": [
      "           A1_Score  A2_Score  A3_Score  A4_Score  A5_Score  A6_Score  \\\n",
      "A1_Score   1.000000  0.401419  0.493016  0.383718  0.432912  0.371917   \n",
      "A2_Score   0.401419  1.000000  0.489330  0.488173  0.427895  0.447721   \n",
      "A3_Score   0.493016  0.489330  1.000000  0.558896  0.579769  0.511669   \n",
      "A4_Score   0.383718  0.488173  0.558896  1.000000  0.559748  0.563543   \n",
      "A5_Score   0.432912  0.427895  0.579769  0.559748  1.000000  0.494944   \n",
      "A6_Score   0.371917  0.447721  0.511669  0.563543  0.494944  1.000000   \n",
      "A7_Score   0.447262  0.452713  0.559118  0.554838  0.550663  0.496588   \n",
      "A8_Score   0.191815  0.302040  0.315882  0.360781  0.292747  0.333694   \n",
      "A9_Score   0.439397  0.511547  0.597022  0.576723  0.524624  0.536666   \n",
      "A10_Score  0.390478  0.454422  0.510276  0.506292  0.436010  0.419172   \n",
      "age        0.055083  0.083590  0.109924  0.102938  0.096364  0.058777   \n",
      "ethnicity  0.131128  0.203495  0.240250  0.199992  0.195825  0.212923   \n",
      "jaundice   0.127812  0.160084  0.183246  0.223980  0.181482  0.192151   \n",
      "austim     0.262947  0.315189  0.366994  0.395126  0.395629  0.390835   \n",
      "result     0.307919  0.339144  0.428870  0.418214  0.369226  0.411550   \n",
      "relation  -0.035650 -0.033845 -0.002695 -0.036187  0.003017 -0.033014   \n",
      "Class/ASD  0.300474  0.372740  0.460927  0.501046  0.461773  0.543010   \n",
      "\n",
      "           A7_Score  A8_Score  A9_Score  A10_Score       age  ethnicity  \\\n",
      "A1_Score   0.447262  0.191815  0.439397   0.390478  0.055083   0.131128   \n",
      "A2_Score   0.452713  0.302040  0.511547   0.454422  0.083590   0.203495   \n",
      "A3_Score   0.559118  0.315882  0.597022   0.510276  0.109924   0.240250   \n",
      "A4_Score   0.554838  0.360781  0.576723   0.506292  0.102938   0.199992   \n",
      "A5_Score   0.550663  0.292747  0.524624   0.436010  0.096364   0.195825   \n",
      "A6_Score   0.496588  0.333694  0.536666   0.419172  0.058777   0.212923   \n",
      "A7_Score   1.000000  0.271903  0.539433   0.455326  0.102883   0.187479   \n",
      "A8_Score   0.271903  1.000000  0.352747   0.250438  0.015488   0.074946   \n",
      "A9_Score   0.539433  0.352747  1.000000   0.485983  0.125844   0.185315   \n",
      "A10_Score  0.455326  0.250438  0.485983   1.000000  0.108229   0.173097   \n",
      "age        0.102883  0.015488  0.125844   0.108229  1.000000   0.018492   \n",
      "ethnicity  0.187479  0.074946  0.185315   0.173097  0.018492   1.000000   \n",
      "jaundice   0.184542  0.100110  0.156691   0.163256 -0.020631   0.095048   \n",
      "austim     0.392940  0.211854  0.359126   0.313520  0.047990   0.088313   \n",
      "result     0.401655  0.277795  0.377139   0.333650 -0.203589   0.167720   \n",
      "relation   0.031640 -0.049409 -0.039953  -0.051998  0.015293  -0.001660   \n",
      "Class/ASD  0.452338  0.312388  0.463347   0.343736  0.109859   0.194812   \n",
      "\n",
      "           jaundice    austim    result  relation  Class/ASD  \n",
      "A1_Score   0.127812  0.262947  0.307919 -0.035650   0.300474  \n",
      "A2_Score   0.160084  0.315189  0.339144 -0.033845   0.372740  \n",
      "A3_Score   0.183246  0.366994  0.428870 -0.002695   0.460927  \n",
      "A4_Score   0.223980  0.395126  0.418214 -0.036187   0.501046  \n",
      "A5_Score   0.181482  0.395629  0.369226  0.003017   0.461773  \n",
      "A6_Score   0.192151  0.390835  0.411550 -0.033014   0.543010  \n",
      "A7_Score   0.184542  0.392940  0.401655  0.031640   0.452338  \n",
      "A8_Score   0.100110  0.211854  0.277795 -0.049409   0.312388  \n",
      "A9_Score   0.156691  0.359126  0.377139 -0.039953   0.463347  \n",
      "A10_Score  0.163256  0.313520  0.333650 -0.051998   0.343736  \n",
      "age       -0.020631  0.047990 -0.203589  0.015293   0.109859  \n",
      "ethnicity  0.095048  0.088313  0.167720 -0.001660   0.194812  \n",
      "jaundice   1.000000  0.109809  0.153892  0.036963   0.138784  \n",
      "austim     0.109809  1.000000  0.271698 -0.023639   0.359217  \n",
      "result     0.153892  0.271698  1.000000 -0.031746   0.351906  \n",
      "relation   0.036963 -0.023639 -0.031746  1.000000  -0.039373  \n",
      "Class/ASD  0.138784  0.359217  0.351906 -0.039373   1.000000  \n"
     ]
    },
    {
     "data": {
      "text/plain": [
       "<matplotlib.axes._subplots.AxesSubplot at 0x205e4a5a4c0>"
      ]
     },
     "execution_count": 1527,
     "metadata": {},
     "output_type": "execute_result"
    },
    {
     "data": {
      "image/png": "[encoded data removed]",
      "text/plain": [
       "<Figure size 432x288 with 2 Axes>"
      ]
     },
     "metadata": {
      "needs_background": "light"
     },
     "output_type": "display_data"
    }
   ],
   "source": [
    "corrdf=Traindf.corr(method=\"pearson\")\n",
    "print(corrdf)\n",
    "sns.heatmap(corrdf,vmax=1.0,vmin=-1.0,annot=True)"
   ]
  },
  {
   "cell_type": "markdown",
   "metadata": {},
   "source": [
    "### RUNNING A BASIC MODEL"
   ]
  },
  {
   "cell_type": "code",
   "execution_count": 1528,
   "metadata": {},
   "outputs": [],
   "source": [
    "# from sklearn.model_selection import train_test_split\n",
    "# X_train,X_test,Y_Train,Y_test=train_test_split(X,Y,test_size=0.3,random_state=10)"
   ]
  },
  {
   "cell_type": "code",
   "execution_count": 1529,
   "metadata": {},
   "outputs": [],
   "source": [
    "# from sklearn.linear_model import LogisticRegression\n",
    "# lr = LogisticRegression()\n",
    "# lr.fit(X_train,Y_Train)\n",
    "# ypred=lr.predict(X_test)\n",
    "# print(list(zip(Y_test,ypred)))"
   ]
  },
  {
   "cell_type": "code",
   "execution_count": 1530,
   "metadata": {},
   "outputs": [],
   "source": [
    "# lr.intercept_"
   ]
  },
  {
   "cell_type": "code",
   "execution_count": 1531,
   "metadata": {},
   "outputs": [],
   "source": [
    "# lr.coef_"
   ]
  },
  {
   "cell_type": "code",
   "execution_count": 1532,
   "metadata": {},
   "outputs": [],
   "source": [
    "# list(zip(Traindf.columns[:-1],lr.coef_.ravel())) #ravel will convert 2d array to 1d array"
   ]
  },
  {
   "cell_type": "code",
   "execution_count": 1533,
   "metadata": {},
   "outputs": [],
   "source": [
    "# from sklearn.metrics import confusion_matrix, accuracy_score, classification_report\n",
    "# cfm=confusion_matrix(Y_test,ypred)\n",
    "# print('Confusion Matrix\\n',cfm)"
   ]
  },
  {
   "cell_type": "code",
   "execution_count": 1534,
   "metadata": {},
   "outputs": [],
   "source": [
    "# print('Classification Report:\\n',classification_report(Y_test,ypred))\n",
    "# print('Accuracy Score:',accuracy_score(Y_test,ypred))"
   ]
  },
  {
   "cell_type": "markdown",
   "metadata": {},
   "source": [
    "### Adjusting the threshold"
   ]
  },
  {
   "cell_type": "code",
   "execution_count": 1535,
   "metadata": {},
   "outputs": [],
   "source": [
    "# #store the predicted probabilities\n",
    "# ypred_prob=lr.predict_proba(X_test)\n",
    "# print(ypred_prob)"
   ]
  },
  {
   "cell_type": "code",
   "execution_count": 1536,
   "metadata": {},
   "outputs": [],
   "source": [
    "# ypred_class=[]\n",
    "# for val in ypred_prob[:,-1]:\n",
    "#     if val>0.67:\n",
    "#         ypred_class.append(1)\n",
    "#     else:\n",
    "#         ypred_class.append(0)\n",
    "# print(ypred_class)"
   ]
  },
  {
   "cell_type": "code",
   "execution_count": 1537,
   "metadata": {},
   "outputs": [],
   "source": [
    "# from sklearn.metrics import confusion_matrix, accuracy_score, classification_report\n",
    "# cfm=confusion_matrix(Y_test,ypred_class)\n",
    "# print('Confusion Matrix\\n',cfm)\n",
    "# print('Classification Report:\\n',classification_report(Y_test,ypred_class))\n",
    "# print('Accuracy Score:',accuracy_score(Y_test,ypred_class))"
   ]
  },
  {
   "cell_type": "code",
   "execution_count": 1538,
   "metadata": {},
   "outputs": [],
   "source": [
    "# #predicting using the Decision_Tree_classifier\n",
    "# from sklearn.tree import DecisionTreeClassifier\n",
    "# model_DecisionTree=DecisionTreeClassifier(criterion='gini',random_state=10)\n",
    "\n",
    "# #fit the model on the data and predict the values\n",
    "# model_DecisionTree.fit(X_train,Y_Train)   "
   ]
  },
  {
   "cell_type": "code",
   "execution_count": 1539,
   "metadata": {},
   "outputs": [],
   "source": [
    "# Y_pred=model_DecisionTree.predict(X_test)"
   ]
  },
  {
   "cell_type": "code",
   "execution_count": 1540,
   "metadata": {},
   "outputs": [],
   "source": [
    "# from sklearn.metrics import confusion_matrix, accuracy_score, classification_report\n",
    "# cfm=confusion_matrix(Y_test,Y_pred)\n",
    "# print('Confusion Matrix\\n',cfm)\n",
    "# print('Classification Report:\\n',classification_report(Y_test,ypred))\n",
    "# print('Accuracy Score:',accuracy_score(Y_test,ypred))"
   ]
  },
  {
   "cell_type": "code",
   "execution_count": 1541,
   "metadata": {},
   "outputs": [],
   "source": [
    "# #AUC at overall threshold\n",
    "# from sklearn import metrics\n",
    "# fpr,tpr,z=metrics.roc_curve(Y_test,ypred_prob[:,1])\n",
    "# auc=metrics.auc(fpr,tpr)\n",
    "# print(auc)"
   ]
  },
  {
   "cell_type": "code",
   "execution_count": 1542,
   "metadata": {},
   "outputs": [],
   "source": [
    "# plt.title('Receiver Operating characterstic')\n",
    "# plt.plot(fpr,tpr,'b',label=auc)\n",
    "# plt.legend(loc='lower right')\n",
    "# plt.plot([0,1],[0,1],'r--')\n",
    "# plt.xlim([0,1])\n",
    "# plt.ylim([0,1])\n",
    "# plt.xlabel('False Positive Rate')\n",
    "# plt.ylabel('True Positive Rate')\n",
    "# plt.show()"
   ]
  },
  {
   "cell_type": "code",
   "execution_count": 1543,
   "metadata": {},
   "outputs": [],
   "source": [
    "# #AUC at individual threshold\n",
    "# from sklearn import metrics\n",
    "# fpr,tpr,z=metrics.roc_curve(Y_test,ypred_class)\n",
    "# auc=metrics.auc(fpr,tpr)\n",
    "# print(auc)"
   ]
  },
  {
   "cell_type": "code",
   "execution_count": 1544,
   "metadata": {},
   "outputs": [],
   "source": [
    "# #predicting using the Random_Forest_Classifier\n",
    "# from sklearn.ensemble import RandomForestClassifier\n",
    "\n",
    "# model_RandomForest=RandomForestClassifier(n_estimators=90, random_state=10)\n",
    "\n",
    "# #fit the model on the data and predict the values\n",
    "# model_RandomForest.fit(X_train,Y_Train)\n",
    "\n",
    "# Y_pred=model_RandomForest.predict(X_test)"
   ]
  },
  {
   "cell_type": "code",
   "execution_count": 1545,
   "metadata": {},
   "outputs": [],
   "source": [
    "# from sklearn.metrics import confusion_matrix, accuracy_score, classification_report\n",
    "# cfm=confusion_matrix(Y_test,Y_pred)\n",
    "# print('Confusion Matrix\\n',cfm)\n",
    "# print('Classification Report:\\n',classification_report(Y_test,Y_pred))\n",
    "# print('Accuracy Score:',accuracy_score(Y_test,Y_pred))"
   ]
  },
  {
   "cell_type": "code",
   "execution_count": 1546,
   "metadata": {},
   "outputs": [],
   "source": [
    "# #predicting using the AdaBoost_Classifier\n",
    "# from sklearn.ensemble import AdaBoostClassifier\n",
    "\n",
    "# model_AdaBoost=AdaBoostClassifier(base_estimator=DecisionTreeClassifier(random_state=10),\n",
    "#                                   n_estimators=10,\n",
    "#                                   random_state=10)\n",
    "# #fit the model on the data and predict the values\n",
    "# model_AdaBoost.fit(X_train,Y_Train)\n",
    "# Y_pred=model_AdaBoost.predict(X_test)"
   ]
  },
  {
   "cell_type": "code",
   "execution_count": 1547,
   "metadata": {},
   "outputs": [],
   "source": [
    "# from sklearn.metrics import confusion_matrix, accuracy_score, classification_report\n",
    "# cfm=confusion_matrix(Y_test,Y_pred)\n",
    "# print('Confusion Matrix\\n',cfm)\n",
    "# print('Classification Report:\\n',classification_report(Y_test,Y_pred))\n",
    "# print('Accuracy Score:',accuracy_score(Y_test,Y_pred))"
   ]
  },
  {
   "cell_type": "code",
   "execution_count": 1548,
   "metadata": {},
   "outputs": [],
   "source": [
    "# #predicting using the Gradient_Boosting_Classifier\n",
    "# from sklearn.ensemble import GradientBoostingClassifier\n",
    "\n",
    "# model_GradientBoosting=GradientBoostingClassifier(n_estimators=150,\n",
    "#                                                   random_state=10)\n",
    "\n",
    "# #fit the model on the data and predict the values\n",
    "# model_GradientBoosting.fit(X_train,Y_Train)\n",
    "\n",
    "# Y_pred=model_GradientBoosting.predict(X_test)\n"
   ]
  },
  {
   "cell_type": "code",
   "execution_count": 1549,
   "metadata": {},
   "outputs": [],
   "source": [
    "# from sklearn.metrics import confusion_matrix, accuracy_score, classification_report\n",
    "# cfm=confusion_matrix(Y_test,Y_pred)\n",
    "# print('Confusion Matrix\\n',cfm)\n",
    "# print('Classification Report:\\n',classification_report(Y_test,Y_pred))\n",
    "# print('Accuracy Score:',accuracy_score(Y_test,Y_pred))"
   ]
  },
  {
   "cell_type": "markdown",
   "metadata": {},
   "source": [
    "### Prediction using XGBOOST"
   ]
  },
  {
   "cell_type": "code",
   "execution_count": 1550,
   "metadata": {},
   "outputs": [],
   "source": [
    "# from xgboost import XGBClassifier\n",
    "\n",
    "# model_XGBoost=XGBClassifier(random_state=10)\n",
    "\n",
    "# #fit the model on the data and predict the values\n",
    "# model_XGBoost.fit(X_train,Y_Train)\n",
    "\n",
    "# Y_pred=model_XGBoost.predict(X_test)"
   ]
  },
  {
   "cell_type": "code",
   "execution_count": 1551,
   "metadata": {},
   "outputs": [],
   "source": [
    "# from sklearn.metrics import confusion_matrix, accuracy_score, classification_report\n",
    "# cfm=confusion_matrix(Y_test,Y_pred)\n",
    "# print('Confusion Matrix\\n',cfm)\n",
    "# print('Classification Report:\\n',classification_report(Y_test,Y_pred))\n",
    "# print('Accuracy Score:',accuracy_score(Y_test,Y_pred))"
   ]
  },
  {
   "cell_type": "markdown",
   "metadata": {},
   "source": [
    "### Upsampling"
   ]
  },
  {
   "cell_type": "code",
   "execution_count": 1552,
   "metadata": {},
   "outputs": [
    {
     "data": {
      "text/plain": [
       "0    639\n",
       "1    161\n",
       "Name: Class/ASD, dtype: int64"
      ]
     },
     "execution_count": 1552,
     "metadata": {},
     "output_type": "execute_result"
    }
   ],
   "source": [
    "Traindf['Class/ASD'].value_counts()"
   ]
  },
  {
   "cell_type": "code",
   "execution_count": 1553,
   "metadata": {},
   "outputs": [
    {
     "data": {
      "text/plain": [
       "1    639\n",
       "0    639\n",
       "Name: Class/ASD, dtype: int64"
      ]
     },
     "execution_count": 1553,
     "metadata": {},
     "output_type": "execute_result"
    }
   ],
   "source": [
    "from sklearn.utils import resample\n",
    "# Separate majority and minority classes\n",
    "df_majority = Traindf[Traindf['Class/ASD']==0]\n",
    "df_minority = Traindf[Traindf['Class/ASD']==1]\n",
    "\n",
    "# Upsample minority class\n",
    "df_minority_upsampled = resample(df_minority,  ## on data we have to sample         /  wheras in downsampling it would be df_majority\n",
    "                                replace=True, # sample with replacement reandomly  /  replace = false as we dont have to select random sample from it\n",
    "                                n_samples=639, # to match majority class        /   n_samples = 4668\n",
    "                                random_state=10) # reproducible results\n",
    "\n",
    "# Combine majority class with upsampled minority class\n",
    "df_upsampled = pd.concat([df_majority, df_minority_upsampled])\n",
    "\n",
    "# Display new class counts\n",
    "df_upsampled['Class/ASD'].value_counts()"
   ]
  },
  {
   "cell_type": "code",
   "execution_count": 1554,
   "metadata": {},
   "outputs": [],
   "source": [
    "X=df_upsampled.values[:,0:-1]\n",
    "Y=df_upsampled.values[:,-1]"
   ]
  },
  {
   "cell_type": "markdown",
   "metadata": {},
   "source": [
    "### SMOTE"
   ]
  },
  {
   "cell_type": "code",
   "execution_count": 1491,
   "metadata": {},
   "outputs": [],
   "source": [
    "# import site\n",
    "# site.getsitepackages()"
   ]
  },
  {
   "cell_type": "code",
   "execution_count": 1492,
   "metadata": {},
   "outputs": [],
   "source": [
    "# pip show imblearn"
   ]
  },
  {
   "cell_type": "code",
   "execution_count": 1494,
   "metadata": {},
   "outputs": [],
   "source": [
    "# pip installed imbalanced-learn"
   ]
  },
  {
   "cell_type": "code",
   "execution_count": 1495,
   "metadata": {},
   "outputs": [],
   "source": [
    "# !pip install scikit-learn==0.22.1"
   ]
  },
  {
   "cell_type": "code",
   "execution_count": 1496,
   "metadata": {},
   "outputs": [],
   "source": [
    "# from imblearn.over_sampling import SMOTE"
   ]
  },
  {
   "cell_type": "code",
   "execution_count": 1497,
   "metadata": {},
   "outputs": [],
   "source": [
    "# Y.value_counts()"
   ]
  },
  {
   "cell_type": "code",
   "execution_count": 1498,
   "metadata": {},
   "outputs": [],
   "source": [
    "# sm = SMOTE(sampling_strategy = 'minority')\n",
    "# X_smote,Y_smote = sm.fit_resample(X,Y)"
   ]
  },
  {
   "cell_type": "code",
   "execution_count": 1380,
   "metadata": {},
   "outputs": [
    {
     "name": "stdout",
     "output_type": "stream",
     "text": [
      "Before SMOTE :  Counter({0: 639, 1: 161})\n",
      "After SMOTE :  Counter({0: 639, 1: 639})\n"
     ]
    }
   ],
   "source": [
    "# from collections import Counter\n",
    "# print('Before SMOTE : ',Counter(Y))\n",
    "# print('After SMOTE : ',Counter(Y_smote))"
   ]
  },
  {
   "cell_type": "code",
   "execution_count": 1381,
   "metadata": {},
   "outputs": [],
   "source": [
    "# X=X_smote\n",
    "# Y=Y_smote"
   ]
  },
  {
   "cell_type": "markdown",
   "metadata": {},
   "source": [
    "### STANDARDIZATION"
   ]
  },
  {
   "cell_type": "code",
   "execution_count": 1560,
   "metadata": {},
   "outputs": [],
   "source": [
    "from sklearn.preprocessing import StandardScaler\n",
    "scaler = StandardScaler()\n",
    "scaler.fit(X)\n",
    "X=scaler.transform(X)"
   ]
  },
  {
   "cell_type": "code",
   "execution_count": 1561,
   "metadata": {},
   "outputs": [],
   "source": [
    "Y=Y.astype(int)"
   ]
  },
  {
   "cell_type": "code",
   "execution_count": 1562,
   "metadata": {},
   "outputs": [],
   "source": [
    "from sklearn.model_selection import train_test_split\n",
    "X_train,X_test,Y_Train,Y_test=train_test_split(X,Y,test_size=0.3,random_state=10)"
   ]
  },
  {
   "cell_type": "markdown",
   "metadata": {},
   "source": [
    "### LOGISTIC REGRESSION"
   ]
  },
  {
   "cell_type": "code",
   "execution_count": 1563,
   "metadata": {},
   "outputs": [],
   "source": [
    "from sklearn.linear_model import LogisticRegression\n",
    "lr_model = LogisticRegression()\n",
    "lr_model.fit(X_train,Y_Train)\n",
    "ypred=lr_model.predict(X_test)"
   ]
  },
  {
   "cell_type": "code",
   "execution_count": 1564,
   "metadata": {},
   "outputs": [
    {
     "name": "stdout",
     "output_type": "stream",
     "text": [
      "Confusion Matrix\n",
      " [[156  41]\n",
      " [ 22 165]]\n",
      "Classification Report:\n",
      "               precision    recall  f1-score   support\n",
      "\n",
      "           0       0.88      0.79      0.83       197\n",
      "           1       0.80      0.88      0.84       187\n",
      "\n",
      "    accuracy                           0.84       384\n",
      "   macro avg       0.84      0.84      0.84       384\n",
      "weighted avg       0.84      0.84      0.84       384\n",
      "\n",
      "Accuracy Score: 0.8359375\n"
     ]
    }
   ],
   "source": [
    "from sklearn.metrics import confusion_matrix, accuracy_score, classification_report\n",
    "cfm=confusion_matrix(Y_test,ypred)\n",
    "print('Confusion Matrix\\n',cfm)\n",
    "print('Classification Report:\\n',classification_report(Y_test,ypred))\n",
    "print('Accuracy Score:',accuracy_score(Y_test,ypred))"
   ]
  },
  {
   "cell_type": "markdown",
   "metadata": {},
   "source": [
    "### TUNING THE MODEL"
   ]
  },
  {
   "cell_type": "code",
   "execution_count": 1565,
   "metadata": {},
   "outputs": [
    {
     "name": "stdout",
     "output_type": "stream",
     "text": [
      "[[0.96592576 0.03407424]\n",
      " [0.35454869 0.64545131]\n",
      " [0.38736301 0.61263699]\n",
      " [0.0828591  0.9171409 ]\n",
      " [0.76989333 0.23010667]\n",
      " [0.15507773 0.84492227]\n",
      " [0.97269881 0.02730119]\n",
      " [0.96785677 0.03214323]\n",
      " [0.67898519 0.32101481]\n",
      " [0.91765324 0.08234676]\n",
      " [0.11056927 0.88943073]\n",
      " [0.64794458 0.35205542]\n",
      " [0.33668645 0.66331355]\n",
      " [0.9782417  0.0217583 ]\n",
      " [0.99046663 0.00953337]\n",
      " [0.95625337 0.04374663]\n",
      " [0.1000193  0.8999807 ]\n",
      " [0.10851545 0.89148455]\n",
      " [0.10314361 0.89685639]\n",
      " [0.07068714 0.92931286]\n",
      " [0.69467137 0.30532863]\n",
      " [0.09053414 0.90946586]\n",
      " [0.90484432 0.09515568]\n",
      " [0.98765824 0.01234176]\n",
      " [0.1040508  0.8959492 ]\n",
      " [0.97084986 0.02915014]\n",
      " [0.98741965 0.01258035]\n",
      " [0.15744473 0.84255527]\n",
      " [0.09631169 0.90368831]\n",
      " [0.33234137 0.66765863]\n",
      " [0.18013978 0.81986022]\n",
      " [0.40803343 0.59196657]\n",
      " [0.74603376 0.25396624]\n",
      " [0.9796009  0.0203991 ]\n",
      " [0.09764262 0.90235738]\n",
      " [0.98932391 0.01067609]\n",
      " [0.9702817  0.0297183 ]\n",
      " [0.1000193  0.8999807 ]\n",
      " [0.975356   0.024644  ]\n",
      " [0.33511897 0.66488103]\n",
      " [0.98750399 0.01249601]\n",
      " [0.98435864 0.01564136]\n",
      " [0.12676947 0.87323053]\n",
      " [0.95325676 0.04674324]\n",
      " [0.1131104  0.8868896 ]\n",
      " [0.85139719 0.14860281]\n",
      " [0.17273772 0.82726228]\n",
      " [0.92080636 0.07919364]\n",
      " [0.125802   0.874198  ]\n",
      " [0.07683041 0.92316959]\n",
      " [0.63317519 0.36682481]\n",
      " [0.07397678 0.92602322]\n",
      " [0.1131104  0.8868896 ]\n",
      " [0.32842318 0.67157682]\n",
      " [0.08681356 0.91318644]\n",
      " [0.76527855 0.23472145]\n",
      " [0.07248969 0.92751031]\n",
      " [0.07195721 0.92804279]\n",
      " [0.15156181 0.84843819]\n",
      " [0.03881843 0.96118157]\n",
      " [0.08097934 0.91902066]\n",
      " [0.98989619 0.01010381]\n",
      " [0.94276595 0.05723405]\n",
      " [0.15621777 0.84378223]\n",
      " [0.93340645 0.06659355]\n",
      " [0.70407506 0.29592494]\n",
      " [0.98793912 0.01206088]\n",
      " [0.09131519 0.90868481]\n",
      " [0.11056927 0.88943073]\n",
      " [0.58199112 0.41800888]\n",
      " [0.98863449 0.01136551]\n",
      " [0.98985352 0.01014648]\n",
      " [0.0866056  0.9133944 ]\n",
      " [0.24873449 0.75126551]\n",
      " [0.09989753 0.90010247]\n",
      " [0.91221712 0.08778288]\n",
      " [0.08681356 0.91318644]\n",
      " [0.10754268 0.89245732]\n",
      " [0.13510541 0.86489459]\n",
      " [0.12397001 0.87602999]\n",
      " [0.15379496 0.84620504]\n",
      " [0.98155279 0.01844721]\n",
      " [0.37983633 0.62016367]\n",
      " [0.95814384 0.04185616]\n",
      " [0.19360132 0.80639868]\n",
      " [0.74603376 0.25396624]\n",
      " [0.10046419 0.89953581]\n",
      " [0.46506527 0.53493473]\n",
      " [0.98106763 0.01893237]\n",
      " [0.98583967 0.01416033]\n",
      " [0.10754268 0.89245732]\n",
      " [0.97257592 0.02742408]\n",
      " [0.47768667 0.52231333]\n",
      " [0.067472   0.932528  ]\n",
      " [0.84385    0.15615   ]\n",
      " [0.09764262 0.90235738]\n",
      " [0.98640225 0.01359775]\n",
      " [0.92655136 0.07344864]\n",
      " [0.0874868  0.9125132 ]\n",
      " [0.96274485 0.03725515]\n",
      " [0.09788956 0.90211044]\n",
      " [0.10231014 0.89768986]\n",
      " [0.91005982 0.08994018]\n",
      " [0.08727589 0.91272411]\n",
      " [0.96684459 0.03315541]\n",
      " [0.93520113 0.06479887]\n",
      " [0.09202085 0.90797915]\n",
      " [0.97681848 0.02318152]\n",
      " [0.40779858 0.59220142]\n",
      " [0.74221852 0.25778148]\n",
      " [0.16116486 0.83883514]\n",
      " [0.96716519 0.03283481]\n",
      " [0.14492569 0.85507431]\n",
      " [0.1955391  0.8044609 ]\n",
      " [0.03881843 0.96118157]\n",
      " [0.9733591  0.0266409 ]\n",
      " [0.93498701 0.06501299]\n",
      " [0.15216353 0.84783647]\n",
      " [0.98600351 0.01399649]\n",
      " [0.08854074 0.91145926]\n",
      " [0.86846678 0.13153322]\n",
      " [0.44064989 0.55935011]\n",
      " [0.10046419 0.89953581]\n",
      " [0.92829182 0.07170818]\n",
      " [0.91044215 0.08955785]\n",
      " [0.07790973 0.92209027]\n",
      " [0.10851545 0.89148455]\n",
      " [0.15002387 0.84997613]\n",
      " [0.49854361 0.50145639]\n",
      " [0.12955381 0.87044619]\n",
      " [0.09529866 0.90470134]\n",
      " [0.8884151  0.1115849 ]\n",
      " [0.97786353 0.02213647]\n",
      " [0.74727105 0.25272895]\n",
      " [0.06228253 0.93771747]\n",
      " [0.08681356 0.91318644]\n",
      " [0.98688841 0.01311159]\n",
      " [0.8006593  0.1993407 ]\n",
      " [0.11908871 0.88091129]\n",
      " [0.19360132 0.80639868]\n",
      " [0.97192872 0.02807128]\n",
      " [0.98647415 0.01352585]\n",
      " [0.97381367 0.02618633]\n",
      " [0.28914054 0.71085946]\n",
      " [0.47515023 0.52484977]\n",
      " [0.58801959 0.41198041]\n",
      " [0.87436727 0.12563273]\n",
      " [0.12347175 0.87652825]\n",
      " [0.33737766 0.66262234]\n",
      " [0.15229002 0.84770998]\n",
      " [0.15716763 0.84283237]\n",
      " [0.10843356 0.89156644]\n",
      " [0.24199248 0.75800752]\n",
      " [0.08681356 0.91318644]\n",
      " [0.99026298 0.00973702]\n",
      " [0.35197715 0.64802285]\n",
      " [0.06814534 0.93185466]\n",
      " [0.42627865 0.57372135]\n",
      " [0.97740706 0.02259294]\n",
      " [0.98028489 0.01971511]\n",
      " [0.10421993 0.89578007]\n",
      " [0.75300047 0.24699953]\n",
      " [0.067472   0.932528  ]\n",
      " [0.40803343 0.59196657]\n",
      " [0.76527855 0.23472145]\n",
      " [0.37983633 0.62016367]\n",
      " [0.08492425 0.91507575]\n",
      " [0.81586267 0.18413733]\n",
      " [0.33511897 0.66488103]\n",
      " [0.1040508  0.8959492 ]\n",
      " [0.07068714 0.92931286]\n",
      " [0.94895186 0.05104814]\n",
      " [0.07139374 0.92860626]\n",
      " [0.98117689 0.01882311]\n",
      " [0.07195721 0.92804279]\n",
      " [0.98162908 0.01837092]\n",
      " [0.40556082 0.59443918]\n",
      " [0.98515458 0.01484542]\n",
      " [0.9716142  0.0283858 ]\n",
      " [0.24219471 0.75780529]\n",
      " [0.97925388 0.02074612]\n",
      " [0.24873449 0.75126551]\n",
      " [0.98802315 0.01197685]\n",
      " [0.21941298 0.78058702]\n",
      " [0.9886413  0.0113587 ]\n",
      " [0.1368367  0.8631633 ]\n",
      " [0.99095012 0.00904988]\n",
      " [0.10421993 0.89578007]\n",
      " [0.08986308 0.91013692]\n",
      " [0.98858568 0.01141432]\n",
      " [0.09970653 0.90029347]\n",
      " [0.15744473 0.84255527]\n",
      " [0.96864033 0.03135967]\n",
      " [0.10046419 0.89953581]\n",
      " [0.24199248 0.75800752]\n",
      " [0.58199112 0.41800888]\n",
      " [0.30936013 0.69063987]\n",
      " [0.62301625 0.37698375]\n",
      " [0.87219634 0.12780366]\n",
      " [0.07683041 0.92316959]\n",
      " [0.17027695 0.82972305]\n",
      " [0.09202085 0.90797915]\n",
      " [0.08189246 0.91810754]\n",
      " [0.14570639 0.85429361]\n",
      " [0.98343784 0.01656216]\n",
      " [0.95891429 0.04108571]\n",
      " [0.68066009 0.31933991]\n",
      " [0.34706728 0.65293272]\n",
      " [0.98944645 0.01055355]\n",
      " [0.94418105 0.05581895]\n",
      " [0.15983675 0.84016325]\n",
      " [0.33809896 0.66190104]\n",
      " [0.13395273 0.86604727]\n",
      " [0.15379496 0.84620504]\n",
      " [0.97924354 0.02075646]\n",
      " [0.98520418 0.01479582]\n",
      " [0.33737766 0.66262234]\n",
      " [0.93451576 0.06548424]\n",
      " [0.54418832 0.45581168]\n",
      " [0.94378278 0.05621722]\n",
      " [0.34595847 0.65404153]\n",
      " [0.9769914  0.0230086 ]\n",
      " [0.9802873  0.0197127 ]\n",
      " [0.93086106 0.06913894]\n",
      " [0.09739331 0.90260669]\n",
      " [0.10840028 0.89159972]\n",
      " [0.98393199 0.01606801]\n",
      " [0.15470447 0.84529553]\n",
      " [0.66807199 0.33192801]\n",
      " [0.97550296 0.02449704]\n",
      " [0.08702957 0.91297043]\n",
      " [0.87531852 0.12468148]\n",
      " [0.1000193  0.8999807 ]\n",
      " [0.08110829 0.91889171]\n",
      " [0.12347175 0.87652825]\n",
      " [0.36047597 0.63952403]\n",
      " [0.95640232 0.04359768]\n",
      " [0.53502676 0.46497324]\n",
      " [0.1000193  0.8999807 ]\n",
      " [0.2972827  0.7027173 ]\n",
      " [0.46707435 0.53292565]\n",
      " [0.0802611  0.9197389 ]\n",
      " [0.05492378 0.94507622]\n",
      " [0.98710436 0.01289564]\n",
      " [0.6738207  0.3261793 ]\n",
      " [0.53034071 0.46965929]\n",
      " [0.58199112 0.41800888]\n",
      " [0.09892082 0.90107918]\n",
      " [0.58199112 0.41800888]\n",
      " [0.94706089 0.05293911]\n",
      " [0.24873449 0.75126551]\n",
      " [0.21304183 0.78695817]\n",
      " [0.89494293 0.10505707]\n",
      " [0.24219471 0.75780529]\n",
      " [0.15379496 0.84620504]\n",
      " [0.06993463 0.93006537]\n",
      " [0.96225692 0.03774308]\n",
      " [0.36047597 0.63952403]\n",
      " [0.99061239 0.00938761]\n",
      " [0.10046419 0.89953581]\n",
      " [0.97603395 0.02396605]\n",
      " [0.37983633 0.62016367]\n",
      " [0.07808728 0.92191272]\n",
      " [0.97055042 0.02944958]\n",
      " [0.98591677 0.01408323]\n",
      " [0.95910351 0.04089649]\n",
      " [0.08681356 0.91318644]\n",
      " [0.09332597 0.90667403]\n",
      " [0.03154742 0.96845258]\n",
      " [0.28001779 0.71998221]\n",
      " [0.80441334 0.19558666]\n",
      " [0.067472   0.932528  ]\n",
      " [0.49615548 0.50384452]\n",
      " [0.98047776 0.01952224]\n",
      " [0.98378719 0.01621281]\n",
      " [0.15216353 0.84783647]\n",
      " [0.34595847 0.65404153]\n",
      " [0.15266458 0.84733542]\n",
      " [0.1429112  0.8570888 ]\n",
      " [0.13488466 0.86511534]\n",
      " [0.11908871 0.88091129]\n",
      " [0.41297885 0.58702115]\n",
      " [0.97206573 0.02793427]\n",
      " [0.38864434 0.61135566]\n",
      " [0.18220853 0.81779147]\n",
      " [0.91432239 0.08567761]\n",
      " [0.96805626 0.03194374]\n",
      " [0.98336775 0.01663225]\n",
      " [0.262072   0.737928  ]\n",
      " [0.10851545 0.89148455]\n",
      " [0.6738207  0.3261793 ]\n",
      " [0.62301625 0.37698375]\n",
      " [0.05492378 0.94507622]\n",
      " [0.21937444 0.78062556]\n",
      " [0.09332738 0.90667262]\n",
      " [0.36958286 0.63041714]\n",
      " [0.8563693  0.1436307 ]\n",
      " [0.03548215 0.96451785]\n",
      " [0.99035165 0.00964835]\n",
      " [0.03548215 0.96451785]\n",
      " [0.99005456 0.00994544]\n",
      " [0.29567659 0.70432341]\n",
      " [0.11908871 0.88091129]\n",
      " [0.98296885 0.01703115]\n",
      " [0.1368367  0.8631633 ]\n",
      " [0.23767613 0.76232387]\n",
      " [0.37983633 0.62016367]\n",
      " [0.97082504 0.02917496]\n",
      " [0.83887242 0.16112758]\n",
      " [0.04780775 0.95219225]\n",
      " [0.9193655  0.0806345 ]\n",
      " [0.93462224 0.06537776]\n",
      " [0.97815824 0.02184176]\n",
      " [0.27939359 0.72060641]\n",
      " [0.18741495 0.81258505]\n",
      " [0.98781134 0.01218866]\n",
      " [0.0874868  0.9125132 ]\n",
      " [0.17785744 0.82214256]\n",
      " [0.03266943 0.96733057]\n",
      " [0.96399999 0.03600001]\n",
      " [0.15266458 0.84733542]\n",
      " [0.21031501 0.78968499]\n",
      " [0.89428606 0.10571394]\n",
      " [0.09069868 0.90930132]\n",
      " [0.28001779 0.71998221]\n",
      " [0.98491338 0.01508662]\n",
      " [0.99088715 0.00911285]\n",
      " [0.77162526 0.22837474]\n",
      " [0.63094421 0.36905579]\n",
      " [0.98461792 0.01538208]\n",
      " [0.74603376 0.25396624]\n",
      " [0.0883491  0.9116509 ]\n",
      " [0.62344742 0.37655258]\n",
      " [0.6048371  0.3951629 ]\n",
      " [0.10840028 0.89159972]\n",
      " [0.95730046 0.04269954]\n",
      " [0.97357134 0.02642866]\n",
      " [0.98559452 0.01440548]\n",
      " [0.10046419 0.89953581]\n",
      " [0.15716763 0.84283237]\n",
      " [0.61033325 0.38966675]\n",
      " [0.13181788 0.86818212]\n",
      " [0.09970653 0.90029347]\n",
      " [0.97723531 0.02276469]\n",
      " [0.98582931 0.01417069]\n",
      " [0.7890976  0.2109024 ]\n",
      " [0.25312172 0.74687828]\n",
      " [0.97076316 0.02923684]\n",
      " [0.98144859 0.01855141]\n",
      " [0.99059135 0.00940865]\n",
      " [0.8721862  0.1278138 ]\n",
      " [0.85219665 0.14780335]\n",
      " [0.97750175 0.02249825]\n",
      " [0.98362479 0.01637521]\n",
      " [0.12397001 0.87602999]\n",
      " [0.10314361 0.89685639]\n",
      " [0.12676947 0.87323053]\n",
      " [0.98159854 0.01840146]\n",
      " [0.0828591  0.9171409 ]\n",
      " [0.14529167 0.85470833]\n",
      " [0.98492486 0.01507514]\n",
      " [0.67846348 0.32153652]\n",
      " [0.65184012 0.34815988]\n",
      " [0.96596699 0.03403301]\n",
      " [0.25361605 0.74638395]\n",
      " [0.07790973 0.92209027]\n",
      " [0.29336487 0.70663513]\n",
      " [0.53483483 0.46516517]\n",
      " [0.08189246 0.91810754]\n",
      " [0.90211869 0.09788131]\n",
      " [0.97364562 0.02635438]\n",
      " [0.19850326 0.80149674]\n",
      " [0.60812389 0.39187611]\n",
      " [0.90509958 0.09490042]\n",
      " [0.15470447 0.84529553]\n",
      " [0.15716763 0.84283237]\n",
      " [0.96122745 0.03877255]\n",
      " [0.29336487 0.70663513]\n",
      " [0.09202085 0.90797915]\n",
      " [0.97757177 0.02242823]\n",
      " [0.74832683 0.25167317]\n",
      " [0.94629519 0.05370481]\n",
      " [0.98217446 0.01782554]\n",
      " [0.0866056  0.9133944 ]]\n"
     ]
    }
   ],
   "source": [
    "#store the predicted probabilities\n",
    "ypred_prob=lr_model.predict_proba(X_test)\n",
    "print(ypred_prob)"
   ]
  },
  {
   "cell_type": "code",
   "execution_count": 1566,
   "metadata": {},
   "outputs": [
    {
     "name": "stdout",
     "output_type": "stream",
     "text": [
      "[0, 1, 0, 1, 0, 1, 0, 0, 0, 0, 1, 0, 1, 0, 0, 0, 1, 1, 1, 1, 0, 1, 0, 0, 1, 0, 0, 1, 1, 1, 1, 0, 0, 0, 1, 0, 0, 1, 0, 1, 0, 0, 1, 0, 1, 0, 1, 0, 1, 1, 0, 1, 1, 1, 1, 0, 1, 1, 1, 1, 1, 0, 0, 1, 0, 0, 0, 1, 1, 0, 0, 0, 1, 1, 1, 0, 1, 1, 1, 1, 1, 0, 1, 0, 1, 0, 1, 0, 0, 0, 1, 0, 0, 1, 0, 1, 0, 0, 1, 0, 1, 1, 0, 1, 0, 0, 1, 0, 0, 0, 1, 0, 1, 1, 1, 0, 0, 1, 0, 1, 0, 0, 1, 0, 0, 1, 1, 1, 0, 1, 1, 0, 0, 0, 1, 1, 0, 0, 1, 1, 0, 0, 0, 1, 0, 0, 0, 1, 1, 1, 1, 1, 1, 1, 0, 1, 1, 0, 0, 0, 1, 0, 1, 0, 0, 1, 1, 0, 1, 1, 1, 0, 1, 0, 1, 0, 0, 0, 0, 1, 0, 1, 0, 1, 0, 1, 0, 1, 1, 0, 1, 1, 0, 1, 1, 0, 1, 0, 0, 1, 1, 1, 1, 1, 0, 0, 0, 1, 0, 0, 1, 1, 1, 1, 0, 0, 1, 0, 0, 0, 1, 0, 0, 0, 1, 1, 0, 1, 0, 0, 1, 0, 1, 1, 1, 1, 0, 0, 1, 1, 0, 1, 1, 0, 0, 0, 0, 1, 0, 0, 1, 1, 0, 1, 1, 1, 0, 1, 0, 1, 0, 1, 1, 0, 0, 0, 1, 1, 1, 1, 0, 1, 0, 0, 0, 1, 1, 1, 1, 1, 1, 0, 0, 0, 1, 0, 0, 0, 1, 1, 0, 0, 1, 1, 1, 1, 0, 1, 0, 1, 0, 1, 1, 0, 1, 1, 1, 0, 0, 1, 0, 0, 0, 1, 1, 0, 1, 1, 1, 0, 1, 1, 0, 1, 1, 0, 0, 0, 0, 0, 0, 1, 0, 0, 1, 0, 0, 0, 1, 1, 0, 1, 1, 0, 0, 0, 1, 0, 0, 0, 0, 0, 0, 0, 1, 1, 1, 0, 1, 1, 0, 0, 0, 0, 1, 1, 1, 0, 1, 0, 0, 1, 0, 0, 1, 1, 0, 1, 1, 0, 0, 0, 0, 1]\n"
     ]
    }
   ],
   "source": [
    "ypred_class=[]\n",
    "for val in ypred_prob[:,-1]:\n",
    "    if val>0.62:\n",
    "        ypred_class.append(1)\n",
    "    else:\n",
    "        ypred_class.append(0)\n",
    "print(ypred_class)"
   ]
  },
  {
   "cell_type": "code",
   "execution_count": 1567,
   "metadata": {},
   "outputs": [
    {
     "name": "stdout",
     "output_type": "stream",
     "text": [
      "Confusion Matrix\n",
      " [[166  31]\n",
      " [ 27 160]]\n",
      "Classification Report:\n",
      "               precision    recall  f1-score   support\n",
      "\n",
      "           0       0.86      0.84      0.85       197\n",
      "           1       0.84      0.86      0.85       187\n",
      "\n",
      "    accuracy                           0.85       384\n",
      "   macro avg       0.85      0.85      0.85       384\n",
      "weighted avg       0.85      0.85      0.85       384\n",
      "\n",
      "Accuracy Score: 0.8489583333333334\n"
     ]
    }
   ],
   "source": [
    "from sklearn.metrics import confusion_matrix, accuracy_score, classification_report\n",
    "cfm=confusion_matrix(Y_test,ypred_class)\n",
    "print('Confusion Matrix\\n',cfm)\n",
    "print('Classification Report:\\n',classification_report(Y_test,ypred_class))\n",
    "print('Accuracy Score:',accuracy_score(Y_test,ypred_class))"
   ]
  },
  {
   "cell_type": "markdown",
   "metadata": {},
   "source": [
    "### RANDOM FOREST"
   ]
  },
  {
   "cell_type": "code",
   "execution_count": 1568,
   "metadata": {},
   "outputs": [],
   "source": [
    "#predicting using the Random_Forest_Classifier\n",
    "from sklearn.ensemble import RandomForestClassifier\n",
    "\n",
    "model_RandomForest=RandomForestClassifier(n_estimators=90, random_state=10)\n",
    "\n",
    "#fit the model on the data and predict the values\n",
    "model_RandomForest.fit(X_train,Y_Train)\n",
    "\n",
    "Y_pred=model_RandomForest.predict(X_test)"
   ]
  },
  {
   "cell_type": "code",
   "execution_count": 1569,
   "metadata": {},
   "outputs": [
    {
     "name": "stdout",
     "output_type": "stream",
     "text": [
      "Confusion Matrix\n",
      " [[174  23]\n",
      " [  5 182]]\n",
      "Classification Report:\n",
      "               precision    recall  f1-score   support\n",
      "\n",
      "           0       0.97      0.88      0.93       197\n",
      "           1       0.89      0.97      0.93       187\n",
      "\n",
      "    accuracy                           0.93       384\n",
      "   macro avg       0.93      0.93      0.93       384\n",
      "weighted avg       0.93      0.93      0.93       384\n",
      "\n",
      "Accuracy Score: 0.9270833333333334\n"
     ]
    }
   ],
   "source": [
    "from sklearn.metrics import confusion_matrix, accuracy_score, classification_report\n",
    "cfm=confusion_matrix(Y_test,Y_pred)\n",
    "print('Confusion Matrix\\n',cfm)\n",
    "print('Classification Report:\\n',classification_report(Y_test,Y_pred))\n",
    "print('Accuracy Score:',accuracy_score(Y_test,Y_pred))"
   ]
  },
  {
   "cell_type": "markdown",
   "metadata": {},
   "source": [
    "### ADABOOST"
   ]
  },
  {
   "cell_type": "code",
   "execution_count": 1570,
   "metadata": {},
   "outputs": [],
   "source": [
    "#predicting using the AdaBoost_Classifier\n",
    "from sklearn.ensemble import AdaBoostClassifier\n",
    "\n",
    "model_AdaBoost=AdaBoostClassifier(base_estimator=DecisionTreeClassifier(random_state=10),\n",
    "                                  n_estimators=10,\n",
    "                                  random_state=10)\n",
    "#fit the model on the data and predict the values\n",
    "model_AdaBoost.fit(X_train,Y_Train)\n",
    "Y_pred=model_AdaBoost.predict(X_test)"
   ]
  },
  {
   "cell_type": "code",
   "execution_count": 1571,
   "metadata": {},
   "outputs": [
    {
     "name": "stdout",
     "output_type": "stream",
     "text": [
      "Confusion Matrix\n",
      " [[169  28]\n",
      " [  8 179]]\n",
      "Classification Report:\n",
      "               precision    recall  f1-score   support\n",
      "\n",
      "           0       0.95      0.86      0.90       197\n",
      "           1       0.86      0.96      0.91       187\n",
      "\n",
      "    accuracy                           0.91       384\n",
      "   macro avg       0.91      0.91      0.91       384\n",
      "weighted avg       0.91      0.91      0.91       384\n",
      "\n",
      "Accuracy Score: 0.90625\n"
     ]
    }
   ],
   "source": [
    "from sklearn.metrics import confusion_matrix, accuracy_score, classification_report\n",
    "cfm=confusion_matrix(Y_test,Y_pred)\n",
    "print('Confusion Matrix\\n',cfm)\n",
    "print('Classification Report:\\n',classification_report(Y_test,Y_pred))\n",
    "print('Accuracy Score:',accuracy_score(Y_test,Y_pred))"
   ]
  },
  {
   "cell_type": "markdown",
   "metadata": {},
   "source": [
    "### XGBOOST"
   ]
  },
  {
   "cell_type": "code",
   "execution_count": 1572,
   "metadata": {},
   "outputs": [],
   "source": [
    "from xgboost import XGBClassifier\n",
    "\n",
    "model_XGBoost=XGBClassifier(random_state=10)\n",
    "\n",
    "#fit the model on the data and predict the values\n",
    "model_XGBoost.fit(X_train,Y_Train)\n",
    "\n",
    "Y_pred=model_XGBoost.predict(X_test)"
   ]
  },
  {
   "cell_type": "code",
   "execution_count": 1573,
   "metadata": {},
   "outputs": [
    {
     "name": "stdout",
     "output_type": "stream",
     "text": [
      "Confusion Matrix\n",
      " [[172  25]\n",
      " [  5 182]]\n",
      "Classification Report:\n",
      "               precision    recall  f1-score   support\n",
      "\n",
      "           0       0.97      0.87      0.92       197\n",
      "           1       0.88      0.97      0.92       187\n",
      "\n",
      "    accuracy                           0.92       384\n",
      "   macro avg       0.93      0.92      0.92       384\n",
      "weighted avg       0.93      0.92      0.92       384\n",
      "\n",
      "Accuracy Score: 0.921875\n"
     ]
    }
   ],
   "source": [
    "from sklearn.metrics import confusion_matrix, accuracy_score, classification_report\n",
    "cfm=confusion_matrix(Y_test,Y_pred)\n",
    "print('Confusion Matrix\\n',cfm)\n",
    "print('Classification Report:\\n',classification_report(Y_test,Y_pred))\n",
    "print('Accuracy Score:',accuracy_score(Y_test,Y_pred))"
   ]
  },
  {
   "cell_type": "markdown",
   "metadata": {},
   "source": [
    "### GRADIENT BOOSTING"
   ]
  },
  {
   "cell_type": "code",
   "execution_count": 1574,
   "metadata": {},
   "outputs": [],
   "source": [
    "#predicting using the Gradient_Boosting_Classifier\n",
    "from sklearn.ensemble import GradientBoostingClassifier\n",
    "\n",
    "model_GradientBoosting=GradientBoostingClassifier(n_estimators=450,\n",
    "                                                  random_state=10)\n",
    "\n",
    "#fit the model on the data and predict the values\n",
    "model_GradientBoosting.fit(X_train,Y_Train)\n",
    "\n",
    "Y_pred=model_GradientBoosting.predict(X_test)"
   ]
  },
  {
   "cell_type": "code",
   "execution_count": 1575,
   "metadata": {},
   "outputs": [
    {
     "name": "stdout",
     "output_type": "stream",
     "text": [
      "Confusion Matrix\n",
      " [[170  27]\n",
      " [  1 186]]\n",
      "Classification Report:\n",
      "               precision    recall  f1-score   support\n",
      "\n",
      "           0       0.99      0.86      0.92       197\n",
      "           1       0.87      0.99      0.93       187\n",
      "\n",
      "    accuracy                           0.93       384\n",
      "   macro avg       0.93      0.93      0.93       384\n",
      "weighted avg       0.94      0.93      0.93       384\n",
      "\n",
      "Accuracy Score: 0.9270833333333334\n"
     ]
    }
   ],
   "source": [
    "from sklearn.metrics import confusion_matrix, accuracy_score, classification_report\n",
    "cfm=confusion_matrix(Y_test,Y_pred)\n",
    "print('Confusion Matrix\\n',cfm)\n",
    "print('Classification Report:\\n',classification_report(Y_test,Y_pred))\n",
    "print('Accuracy Score:',accuracy_score(Y_test,Y_pred))"
   ]
  },
  {
   "cell_type": "markdown",
   "metadata": {},
   "source": [
    "### SVM"
   ]
  },
  {
   "cell_type": "code",
   "execution_count": 1576,
   "metadata": {},
   "outputs": [
    {
     "name": "stdout",
     "output_type": "stream",
     "text": [
      "Accuracy is : 0.890625\n"
     ]
    }
   ],
   "source": [
    "from sklearn.svm import SVC\n",
    "svc_model = SVC(kernel='rbf',C=1.0,gamma=0.1)\n",
    "svc_model.fit(X_train,Y_Train)\n",
    "print('Accuracy is :',svc_model.score(X_test,Y_test))"
   ]
  },
  {
   "cell_type": "code",
   "execution_count": 1577,
   "metadata": {},
   "outputs": [
    {
     "name": "stdout",
     "output_type": "stream",
     "text": [
      "[0, 0, 1, 1, 0, 1, 0, 0, 0, 0, 1, 0, 1, 0, 0, 0, 1, 1, 1, 1, 0, 1, 0, 0, 1, 0, 0, 1, 1, 0, 1, 1, 0, 0, 1, 0, 0, 1, 0, 1, 0, 0, 1, 0, 1, 0, 1, 0, 1, 1, 0, 1, 1, 1, 1, 1, 1, 1, 1, 1, 1, 0, 0, 1, 0, 1, 0, 1, 1, 1, 0, 0, 1, 1, 1, 0, 1, 1, 1, 1, 1, 0, 0, 0, 1, 0, 1, 1, 0, 0, 1, 0, 1, 1, 0, 1, 0, 0, 1, 0, 1, 1, 0, 1, 0, 0, 1, 0, 1, 0, 0, 0, 1, 1, 1, 0, 0, 1, 0, 1, 0, 1, 1, 0, 0, 1, 1, 1, 0, 1, 1, 0, 0, 0, 1, 1, 0, 0, 1, 1, 0, 0, 0, 0, 1, 0, 0, 1, 1, 1, 1, 1, 1, 1, 0, 1, 1, 1, 0, 0, 1, 0, 1, 1, 1, 0, 1, 0, 1, 1, 1, 0, 1, 0, 1, 0, 0, 0, 0, 1, 0, 1, 0, 1, 0, 1, 0, 1, 1, 0, 1, 1, 0, 1, 1, 1, 0, 1, 0, 1, 1, 1, 1, 1, 0, 0, 0, 1, 0, 0, 1, 1, 1, 1, 0, 0, 1, 0, 0, 0, 1, 0, 0, 0, 1, 1, 0, 1, 0, 0, 1, 0, 1, 1, 1, 1, 0, 0, 1, 1, 1, 1, 1, 0, 1, 0, 1, 1, 1, 0, 1, 0, 0, 1, 1, 1, 0, 1, 0, 1, 0, 0, 1, 0, 0, 0, 1, 1, 1, 1, 1, 1, 1, 0, 0, 1, 1, 1, 1, 1, 1, 1, 0, 1, 1, 0, 0, 0, 1, 1, 1, 1, 1, 1, 1, 1, 0, 1, 0, 1, 0, 1, 1, 0, 1, 1, 0, 0, 0, 1, 0, 0, 0, 0, 1, 0, 1, 1, 1, 0, 1, 1, 0, 1, 1, 0, 0, 0, 0, 0, 0, 1, 0, 0, 1, 0, 0, 0, 1, 1, 1, 1, 1, 0, 0, 0, 1, 0, 0, 0, 0, 0, 0, 0, 1, 1, 1, 0, 1, 1, 0, 0, 1, 0, 1, 1, 1, 1, 1, 0, 0, 1, 0, 0, 1, 1, 0, 1, 1, 0, 0, 1, 0, 1]\n"
     ]
    }
   ],
   "source": [
    "Y_pred = svc_model.predict(X_test)\n",
    "print(list(Y_pred))"
   ]
  },
  {
   "cell_type": "code",
   "execution_count": 1578,
   "metadata": {},
   "outputs": [
    {
     "data": {
      "text/plain": [
       "0.9351230425055929"
      ]
     },
     "execution_count": 1578,
     "metadata": {},
     "output_type": "execute_result"
    }
   ],
   "source": [
    "svc_model.score(X_train,Y_Train)"
   ]
  },
  {
   "cell_type": "code",
   "execution_count": 1579,
   "metadata": {},
   "outputs": [
    {
     "name": "stdout",
     "output_type": "stream",
     "text": [
      "Confusion Matrix\n",
      " [[165  32]\n",
      " [ 10 177]]\n",
      "Classification Report:\n",
      "               precision    recall  f1-score   support\n",
      "\n",
      "           0       0.94      0.84      0.89       197\n",
      "           1       0.85      0.95      0.89       187\n",
      "\n",
      "    accuracy                           0.89       384\n",
      "   macro avg       0.89      0.89      0.89       384\n",
      "weighted avg       0.90      0.89      0.89       384\n",
      "\n",
      "Accuracy Score: 0.890625\n"
     ]
    }
   ],
   "source": [
    "from sklearn.metrics import confusion_matrix, accuracy_score, classification_report\n",
    "cfm=confusion_matrix(Y_test,Y_pred)\n",
    "print('Confusion Matrix\\n',cfm)\n",
    "print('Classification Report:\\n',classification_report(Y_test,Y_pred))\n",
    "print('Accuracy Score:',accuracy_score(Y_test,Y_pred))"
   ]
  },
  {
   "cell_type": "markdown",
   "metadata": {},
   "source": [
    "### KNN"
   ]
  },
  {
   "cell_type": "code",
   "execution_count": 1580,
   "metadata": {},
   "outputs": [
    {
     "name": "stdout",
     "output_type": "stream",
     "text": [
      "[(0, 0), (0, 1), (0, 1), (1, 1), (1, 0), (1, 1), (0, 0), (0, 0), (0, 0), (0, 0), (1, 1), (0, 1), (0, 1), (0, 0), (0, 0), (0, 0), (1, 1), (1, 1), (1, 1), (1, 1), (0, 0), (1, 1), (0, 0), (0, 0), (1, 1), (0, 0), (0, 0), (1, 1), (1, 1), (0, 0), (0, 1), (1, 1), (1, 1), (0, 0), (1, 1), (0, 0), (0, 0), (1, 1), (0, 0), (1, 1), (0, 0), (0, 0), (1, 1), (0, 0), (1, 1), (0, 0), (0, 1), (0, 0), (0, 1), (1, 1), (0, 1), (1, 1), (1, 1), (1, 1), (1, 1), (1, 0), (1, 1), (1, 1), (0, 1), (1, 1), (1, 1), (0, 0), (0, 0), (1, 1), (0, 0), (1, 0), (0, 0), (1, 1), (1, 1), (1, 0), (0, 0), (0, 0), (1, 1), (1, 1), (1, 1), (0, 0), (1, 1), (1, 1), (1, 1), (1, 1), (1, 1), (0, 0), (1, 1), (0, 0), (1, 1), (1, 1), (1, 1), (1, 1), (0, 0), (0, 0), (1, 1), (0, 0), (1, 1), (1, 1), (0, 0), (1, 1), (0, 0), (0, 0), (1, 1), (0, 0), (0, 1), (1, 1), (0, 0), (1, 1), (0, 0), (0, 0), (1, 1), (0, 0), (1, 1), (0, 0), (0, 1), (0, 0), (1, 1), (1, 1), (1, 1), (0, 0), (0, 0), (1, 1), (0, 0), (1, 1), (0, 0), (0, 1), (1, 1), (0, 0), (0, 0), (1, 1), (1, 1), (1, 1), (0, 1), (1, 1), (1, 1), (0, 0), (0, 0), (0, 0), (1, 1), (1, 1), (0, 0), (0, 0), (1, 1), (1, 1), (0, 0), (0, 0), (0, 0), (0, 1), (0, 1), (0, 1), (0, 0), (1, 1), (1, 1), (1, 1), (1, 1), (1, 1), (1, 1), (1, 1), (0, 0), (0, 1), (1, 1), (0, 1), (0, 0), (0, 0), (1, 1), (0, 0), (1, 1), (1, 1), (1, 0), (1, 1), (1, 1), (0, 0), (1, 1), (1, 1), (1, 1), (0, 0), (1, 1), (0, 0), (1, 1), (0, 0), (0, 0), (0, 0), (0, 0), (1, 1), (0, 0), (1, 1), (0, 0), (0, 1), (0, 0), (1, 1), (0, 0), (1, 1), (1, 1), (0, 0), (1, 1), (1, 1), (0, 0), (1, 1), (1, 1), (1, 0), (0, 1), (1, 1), (0, 0), (1, 1), (0, 1), (1, 1), (1, 1), (1, 1), (0, 0), (0, 0), (0, 0), (1, 1), (0, 0), (0, 0), (1, 1), (0, 1), (1, 1), (1, 1), (0, 0), (0, 0), (1, 1), (0, 0), (0, 0), (0, 0), (1, 1), (0, 0), (0, 0), (0, 0), (0, 1), (1, 1), (0, 0), (1, 1), (1, 1), (0, 0), (1, 1), (0, 0), (1, 1), (1, 1), (1, 1), (1, 1), (0, 0), (0, 0), (1, 1), (0, 1), (0, 1), (1, 1), (1, 1), (0, 0), (1, 0), (0, 1), (1, 0), (1, 1), (1, 0), (0, 0), (1, 1), (0, 1), (0, 0), (1, 1), (1, 1), (1, 1), (0, 0), (1, 1), (0, 0), (1, 1), (0, 0), (1, 1), (0, 1), (0, 0), (0, 0), (0, 0), (1, 1), (1, 1), (1, 1), (1, 1), (1, 0), (1, 1), (0, 1), (0, 0), (0, 0), (1, 1), (1, 1), (1, 1), (1, 1), (0, 1), (1, 1), (0, 1), (0, 0), (0, 1), (0, 1), (0, 0), (1, 0), (0, 0), (0, 1), (1, 1), (1, 0), (1, 1), (1, 1), (1, 1), (0, 1), (1, 1), (0, 0), (1, 1), (0, 0), (1, 1), (0, 0), (0, 1), (1, 1), (0, 0), (1, 1), (1, 1), (1, 1), (0, 0), (0, 0), (0, 1), (0, 0), (0, 0), (0, 0), (0, 1), (0, 1), (0, 0), (1, 1), (1, 1), (1, 1), (0, 0), (1, 1), (0, 1), (0, 0), (0, 1), (1, 1), (0, 0), (0, 0), (0, 0), (0, 1), (0, 0), (1, 1), (1, 1), (0, 1), (0, 1), (1, 1), (0, 0), (0, 0), (0, 0), (1, 1), (1, 1), (1, 1), (1, 1), (1, 1), (0, 0), (0, 0), (0, 0), (1, 1), (0, 0), (0, 0), (0, 0), (0, 0), (0, 0), (0, 0), (0, 0), (1, 1), (1, 1), (1, 1), (0, 0), (1, 1), (0, 1), (0, 0), (0, 1), (1, 0), (0, 0), (1, 1), (1, 1), (1, 1), (1, 1), (1, 1), (0, 0), (0, 0), (0, 1), (0, 1), (0, 1), (1, 1), (1, 1), (0, 0), (1, 1), (1, 1), (0, 0), (0, 0), (1, 0), (0, 0), (1, 1)]\n"
     ]
    }
   ],
   "source": [
    "## predicting using KNeighors_Classifer\n",
    "from sklearn.neighbors import KNeighborsClassifier\n",
    "model_knn = KNeighborsClassifier(n_neighbors = int(np.sqrt(len(X_train))),metric = 'euclidean')\n",
    "## fit the model on the data and predict the values\n",
    "model_knn.fit(X_train,Y_Train)\n",
    "Y_pred = model_knn.predict(X_test)\n",
    "print(list(zip(Y_test,Y_pred)))"
   ]
  },
  {
   "cell_type": "code",
   "execution_count": 1581,
   "metadata": {},
   "outputs": [
    {
     "name": "stdout",
     "output_type": "stream",
     "text": [
      "Confusion Matrix\n",
      " [[148  49]\n",
      " [ 14 173]]\n",
      "Classification Report:\n",
      "               precision    recall  f1-score   support\n",
      "\n",
      "           0       0.91      0.75      0.82       197\n",
      "           1       0.78      0.93      0.85       187\n",
      "\n",
      "    accuracy                           0.84       384\n",
      "   macro avg       0.85      0.84      0.84       384\n",
      "weighted avg       0.85      0.84      0.83       384\n",
      "\n",
      "Accuracy Score: 0.8359375\n"
     ]
    }
   ],
   "source": [
    "from sklearn.metrics import confusion_matrix, accuracy_score, classification_report\n",
    "cfm=confusion_matrix(Y_test,Y_pred)\n",
    "print('Confusion Matrix\\n',cfm)\n",
    "print('Classification Report:\\n',classification_report(Y_test,Y_pred))\n",
    "print('Accuracy Score:',accuracy_score(Y_test,Y_pred))"
   ]
  },
  {
   "cell_type": "markdown",
   "metadata": {},
   "source": [
    "### Recursive Feature Elimination (RFE)"
   ]
  },
  {
   "cell_type": "markdown",
   "metadata": {},
   "source": [
    "RFE: 1st - All the independent variables will be considered and the model will be built. It will eliminate the variable which has the least significance in the model. 2nd - (X-1) variables will be considered and the model will be rebuilt. The process continues till the time we are left off with the given no of variables in the model. RFE model will be rerady to predict upon the testing data "
   ]
  },
  {
   "cell_type": "code",
   "execution_count": 1582,
   "metadata": {},
   "outputs": [],
   "source": [
    "colname=Traindf.columns"
   ]
  },
  {
   "cell_type": "code",
   "execution_count": 1583,
   "metadata": {},
   "outputs": [
    {
     "name": "stdout",
     "output_type": "stream",
     "text": [
      "Num Features:  15\n",
      "Selected Features: \n",
      "[('A1_Score', True), ('A2_Score', True), ('A3_Score', True), ('A4_Score', True), ('A5_Score', True), ('A6_Score', True), ('A7_Score', True), ('A8_Score', True), ('A9_Score', True), ('A10_Score', True), ('age', True), ('ethnicity', True), ('jaundice', True), ('austim', False), ('result', True), ('relation', True)]\n",
      "Feature Ranking:  [1 1 1 1 1 1 1 1 1 1 1 1 1 2 1 1]\n"
     ]
    }
   ],
   "source": [
    "from sklearn.feature_selection import RFE\n",
    "rfe = RFE(lr_model,15)\n",
    "model_rfe = rfe.fit(X_train, Y_Train)\n",
    "print('Num Features: ',model_rfe.n_features_)\n",
    "print('Selected Features: ')\n",
    "print(list(zip(colname,model_rfe.support_)))\n",
    "print('Feature Ranking: ',model_rfe.ranking_)"
   ]
  },
  {
   "cell_type": "code",
   "execution_count": 1584,
   "metadata": {},
   "outputs": [],
   "source": [
    "Y_pred=model_rfe.predict(X_test)"
   ]
  },
  {
   "cell_type": "code",
   "execution_count": 1585,
   "metadata": {},
   "outputs": [
    {
     "name": "stdout",
     "output_type": "stream",
     "text": [
      "[('A1_Score', 0.002133665966386557), ('A2_Score', 0.0), ('A3_Score', 0.034248674074268196), ('A4_Score', 0.02209007677366218), ('A5_Score', 0.012767627082884427), ('A6_Score', 0.28500833443967466), ('A7_Score', 0.05822199460592315), ('A8_Score', 0.07330500467607007), ('A9_Score', 0.03190122202727245), ('A10_Score', 0.007440476190476191), ('age', 0.17289125901553465), ('ethnicity', 0.05531966835846153), ('jaundice', 0.02164358241095306), ('austim', 0.0), ('result', 0.21363572800816263), ('relation', 0.009392686370270248)]\n"
     ]
    }
   ],
   "source": [
    "print(list(zip(Traindf.columns,model_DecisionTree.feature_importances_)))"
   ]
  },
  {
   "cell_type": "code",
   "execution_count": 1586,
   "metadata": {},
   "outputs": [
    {
     "name": "stdout",
     "output_type": "stream",
     "text": [
      "[('A1_Score', 0.021357452643596415), ('A2_Score', 0.029869231614164073), ('A3_Score', 0.05538616369165408), ('A4_Score', 0.07105672518187256), ('A5_Score', 0.07704975938929073), ('A6_Score', 0.16388685216796728), ('A7_Score', 0.06130215852364214), ('A8_Score', 0.029078183676186288), ('A9_Score', 0.10666235870562393), ('A10_Score', 0.031402254304645376), ('age', 0.12116702664214392), ('ethnicity', 0.039702170326118905), ('jaundice', 0.01861414020316641), ('austim', 0.020904080900753217), ('result', 0.13753118751377424), ('relation', 0.01503025451540049)]\n"
     ]
    }
   ],
   "source": [
    "print(list(zip(Traindf.columns,model_RandomForest.feature_importances_)))"
   ]
  },
  {
   "cell_type": "code",
   "execution_count": 1587,
   "metadata": {},
   "outputs": [
    {
     "name": "stdout",
     "output_type": "stream",
     "text": [
      "Confusion Matrix\n",
      " [[156  41]\n",
      " [ 22 165]]\n",
      "Classification Report:\n",
      "               precision    recall  f1-score   support\n",
      "\n",
      "           0       0.88      0.79      0.83       197\n",
      "           1       0.80      0.88      0.84       187\n",
      "\n",
      "    accuracy                           0.84       384\n",
      "   macro avg       0.84      0.84      0.84       384\n",
      "weighted avg       0.84      0.84      0.84       384\n",
      "\n",
      "Accuracy Score: 0.8359375\n"
     ]
    }
   ],
   "source": [
    "from sklearn.metrics import confusion_matrix, accuracy_score, classification_report\n",
    "cfm=confusion_matrix(Y_test,Y_pred)\n",
    "print('Confusion Matrix\\n',cfm)\n",
    "print('Classification Report:\\n',classification_report(Y_test,Y_pred))\n",
    "print('Accuracy Score:',accuracy_score(Y_test,Y_pred))"
   ]
  },
  {
   "cell_type": "code",
   "execution_count": 1588,
   "metadata": {},
   "outputs": [],
   "source": [
    "from sklearn.neural_network import MLPClassifier"
   ]
  },
  {
   "cell_type": "code",
   "execution_count": 1589,
   "metadata": {},
   "outputs": [],
   "source": [
    "mlp_gs = MLPClassifier(max_iter=100,early_stopping=True,n_iter_no_change=5,\n",
    "                        random_state=10,learning_rate_init=0.01,learning_rate= 'constant',\n",
    "                        verbose=True )\n",
    "parameter_space = {\n",
    "            'hidden_layer_sizes': [(12,12,12),(10,10)],\n",
    "            'activation': ['tanh', 'relu'],\n",
    "            'solver': ['sgd', 'adam'],\n",
    "            'alpha': [0.0001, 0.01]\n",
    "}\n",
    "\n",
    "from sklearn.model_selection import GridSearchCV\n",
    "clf = GridSearchCV(mlp_gs, parameter_space, n_jobs=-1, cv=5) "
   ]
  },
  {
   "cell_type": "code",
   "execution_count": 1590,
   "metadata": {},
   "outputs": [
    {
     "name": "stdout",
     "output_type": "stream",
     "text": [
      "Iteration 1, loss = 0.69170831\n",
      "Validation score: 0.733333\n",
      "Iteration 2, loss = 0.57136437\n",
      "Validation score: 0.811111\n",
      "Iteration 3, loss = 0.45088963\n",
      "Validation score: 0.800000\n",
      "Iteration 4, loss = 0.39531165\n",
      "Validation score: 0.800000\n",
      "Iteration 5, loss = 0.38321663\n",
      "Validation score: 0.811111\n",
      "Iteration 6, loss = 0.37686519\n",
      "Validation score: 0.811111\n",
      "Iteration 7, loss = 0.36211008\n",
      "Validation score: 0.811111\n",
      "Iteration 8, loss = 0.34370311\n",
      "Validation score: 0.800000\n",
      "Validation score did not improve more than tol=0.000100 for 5 consecutive epochs. Stopping.\n"
     ]
    },
    {
     "data": {
      "text/plain": [
       "GridSearchCV(cv=5,\n",
       "             estimator=MLPClassifier(early_stopping=True,\n",
       "                                     learning_rate_init=0.01, max_iter=100,\n",
       "                                     n_iter_no_change=5, random_state=10,\n",
       "                                     verbose=True),\n",
       "             n_jobs=-1,\n",
       "             param_grid={'activation': ['tanh', 'relu'],\n",
       "                         'alpha': [0.0001, 0.01],\n",
       "                         'hidden_layer_sizes': [(12, 12, 12), (10, 10)],\n",
       "                         'solver': ['sgd', 'adam']})"
      ]
     },
     "execution_count": 1590,
     "metadata": {},
     "output_type": "execute_result"
    }
   ],
   "source": [
    "clf.fit(X_train,Y_Train)"
   ]
  },
  {
   "cell_type": "code",
   "execution_count": 453,
   "metadata": {},
   "outputs": [
    {
     "name": "stdout",
     "output_type": "stream",
     "text": [
      "Best parameters found :\n",
      " {'activation': 'relu', 'alpha': 0.01, 'hidden_layer_sizes': (12, 12, 12), 'solver': 'adam'}\n"
     ]
    }
   ],
   "source": [
    "print('Best parameters found :\\n',clf.best_params_)"
   ]
  },
  {
   "cell_type": "code",
   "execution_count": 454,
   "metadata": {},
   "outputs": [],
   "source": [
    "Y_pred = clf.predict(X_test)"
   ]
  },
  {
   "cell_type": "code",
   "execution_count": 455,
   "metadata": {},
   "outputs": [
    {
     "name": "stdout",
     "output_type": "stream",
     "text": [
      "Confusion Matrix\n",
      " [[163  34]\n",
      " [ 31 156]]\n",
      "Classification Report:\n",
      "               precision    recall  f1-score   support\n",
      "\n",
      "           0       0.84      0.83      0.83       197\n",
      "           1       0.82      0.83      0.83       187\n",
      "\n",
      "    accuracy                           0.83       384\n",
      "   macro avg       0.83      0.83      0.83       384\n",
      "weighted avg       0.83      0.83      0.83       384\n",
      "\n",
      "Accuracy Score: 0.8307291666666666\n"
     ]
    }
   ],
   "source": [
    "from sklearn.metrics import confusion_matrix, accuracy_score, classification_report\n",
    "cfm=confusion_matrix(Y_test,Y_pred)\n",
    "print('Confusion Matrix\\n',cfm)\n",
    "print('Classification Report:\\n',classification_report(Y_test,Y_pred))\n",
    "print('Accuracy Score:',accuracy_score(Y_test,Y_pred))"
   ]
  },
  {
   "cell_type": "markdown",
   "metadata": {},
   "source": [
    "### K-FOLD CROSS VALIDATION"
   ]
  },
  {
   "cell_type": "code",
   "execution_count": 1476,
   "metadata": {},
   "outputs": [],
   "source": [
    "classifier = LogisticRegression()\n",
    "from sklearn.model_selection import KFold"
   ]
  },
  {
   "cell_type": "code",
   "execution_count": 1477,
   "metadata": {},
   "outputs": [],
   "source": [
    "kfold_cv = KFold(n_splits=10,random_state=10)\n",
    "from sklearn.model_selection import cross_val_score"
   ]
  },
  {
   "cell_type": "code",
   "execution_count": 1480,
   "metadata": {},
   "outputs": [
    {
     "name": "stdout",
     "output_type": "stream",
     "text": [
      "[0.9        0.83333333 0.85555556 0.85555556 0.79775281 0.83146067\n",
      " 0.80898876 0.87640449 0.78651685 0.82022472]\n"
     ]
    }
   ],
   "source": [
    "kfold_score = cross_val_score(estimator=classifier, X = X_train, y = Y_Train, cv = kfold_cv)\n",
    "print(kfold_score)"
   ]
  },
  {
   "cell_type": "code",
   "execution_count": 1484,
   "metadata": {},
   "outputs": [
    {
     "name": "stdout",
     "output_type": "stream",
     "text": [
      "0.8365792759051185\n"
     ]
    }
   ],
   "source": [
    "print(kfold_score.mean())"
   ]
  },
  {
   "cell_type": "code",
   "execution_count": null,
   "metadata": {},
   "outputs": [],
   "source": [
    "#model tuning\n",
    "for train_value, test_value"
   ]
  },
  {
   "cell_type": "code",
   "execution_count": null,
   "metadata": {},
   "outputs": [],
   "source": []
  },
  {
   "cell_type": "markdown",
   "metadata": {},
   "source": [
    "### WORKING ON TEST"
   ]
  },
  {
   "cell_type": "code",
   "execution_count": 1499,
   "metadata": {},
   "outputs": [
    {
     "data": {
      "text/html": [
       "<div>\n",
       "<style scoped>\n",
       "    .dataframe tbody tr th:only-of-type {\n",
       "        vertical-align: middle;\n",
       "    }\n",
       "\n",
       "    .dataframe tbody tr th {\n",
       "        vertical-align: top;\n",
       "    }\n",
       "\n",
       "    .dataframe thead th {\n",
       "        text-align: right;\n",
       "    }\n",
       "</style>\n",
       "<table border=\"1\" class=\"dataframe\">\n",
       "  <thead>\n",
       "    <tr style=\"text-align: right;\">\n",
       "      <th></th>\n",
       "      <th>ID</th>\n",
       "      <th>A1_Score</th>\n",
       "      <th>A2_Score</th>\n",
       "      <th>A3_Score</th>\n",
       "      <th>A4_Score</th>\n",
       "      <th>A5_Score</th>\n",
       "      <th>A6_Score</th>\n",
       "      <th>A7_Score</th>\n",
       "      <th>A8_Score</th>\n",
       "      <th>A9_Score</th>\n",
       "      <th>A10_Score</th>\n",
       "      <th>age</th>\n",
       "      <th>gender</th>\n",
       "      <th>ethnicity</th>\n",
       "      <th>jaundice</th>\n",
       "      <th>austim</th>\n",
       "      <th>contry_of_res</th>\n",
       "      <th>used_app_before</th>\n",
       "      <th>result</th>\n",
       "      <th>age_desc</th>\n",
       "      <th>relation</th>\n",
       "    </tr>\n",
       "  </thead>\n",
       "  <tbody>\n",
       "    <tr>\n",
       "      <th>0</th>\n",
       "      <td>1</td>\n",
       "      <td>1</td>\n",
       "      <td>1</td>\n",
       "      <td>0</td>\n",
       "      <td>0</td>\n",
       "      <td>1</td>\n",
       "      <td>1</td>\n",
       "      <td>0</td>\n",
       "      <td>0</td>\n",
       "      <td>1</td>\n",
       "      <td>1</td>\n",
       "      <td>15.599481</td>\n",
       "      <td>m</td>\n",
       "      <td>White-European</td>\n",
       "      <td>yes</td>\n",
       "      <td>no</td>\n",
       "      <td>India</td>\n",
       "      <td>no</td>\n",
       "      <td>12.399055</td>\n",
       "      <td>18 and more</td>\n",
       "      <td>Self</td>\n",
       "    </tr>\n",
       "    <tr>\n",
       "      <th>1</th>\n",
       "      <td>2</td>\n",
       "      <td>1</td>\n",
       "      <td>0</td>\n",
       "      <td>0</td>\n",
       "      <td>0</td>\n",
       "      <td>0</td>\n",
       "      <td>0</td>\n",
       "      <td>0</td>\n",
       "      <td>1</td>\n",
       "      <td>0</td>\n",
       "      <td>0</td>\n",
       "      <td>27.181099</td>\n",
       "      <td>m</td>\n",
       "      <td>Asian</td>\n",
       "      <td>no</td>\n",
       "      <td>no</td>\n",
       "      <td>Mexico</td>\n",
       "      <td>no</td>\n",
       "      <td>6.551598</td>\n",
       "      <td>18 and more</td>\n",
       "      <td>Self</td>\n",
       "    </tr>\n",
       "    <tr>\n",
       "      <th>2</th>\n",
       "      <td>3</td>\n",
       "      <td>1</td>\n",
       "      <td>1</td>\n",
       "      <td>1</td>\n",
       "      <td>0</td>\n",
       "      <td>1</td>\n",
       "      <td>1</td>\n",
       "      <td>0</td>\n",
       "      <td>1</td>\n",
       "      <td>1</td>\n",
       "      <td>1</td>\n",
       "      <td>31.643906</td>\n",
       "      <td>m</td>\n",
       "      <td>White-European</td>\n",
       "      <td>yes</td>\n",
       "      <td>no</td>\n",
       "      <td>Egypt</td>\n",
       "      <td>no</td>\n",
       "      <td>3.180663</td>\n",
       "      <td>18 and more</td>\n",
       "      <td>Self</td>\n",
       "    </tr>\n",
       "    <tr>\n",
       "      <th>3</th>\n",
       "      <td>4</td>\n",
       "      <td>0</td>\n",
       "      <td>0</td>\n",
       "      <td>0</td>\n",
       "      <td>0</td>\n",
       "      <td>0</td>\n",
       "      <td>0</td>\n",
       "      <td>0</td>\n",
       "      <td>0</td>\n",
       "      <td>0</td>\n",
       "      <td>0</td>\n",
       "      <td>25.369210</td>\n",
       "      <td>m</td>\n",
       "      <td>?</td>\n",
       "      <td>no</td>\n",
       "      <td>no</td>\n",
       "      <td>India</td>\n",
       "      <td>no</td>\n",
       "      <td>2.220766</td>\n",
       "      <td>18 and more</td>\n",
       "      <td>Self</td>\n",
       "    </tr>\n",
       "    <tr>\n",
       "      <th>4</th>\n",
       "      <td>5</td>\n",
       "      <td>0</td>\n",
       "      <td>0</td>\n",
       "      <td>0</td>\n",
       "      <td>1</td>\n",
       "      <td>0</td>\n",
       "      <td>0</td>\n",
       "      <td>0</td>\n",
       "      <td>0</td>\n",
       "      <td>0</td>\n",
       "      <td>0</td>\n",
       "      <td>9.078580</td>\n",
       "      <td>m</td>\n",
       "      <td>?</td>\n",
       "      <td>no</td>\n",
       "      <td>no</td>\n",
       "      <td>Italy</td>\n",
       "      <td>no</td>\n",
       "      <td>7.252028</td>\n",
       "      <td>18 and more</td>\n",
       "      <td>Self</td>\n",
       "    </tr>\n",
       "    <tr>\n",
       "      <th>...</th>\n",
       "      <td>...</td>\n",
       "      <td>...</td>\n",
       "      <td>...</td>\n",
       "      <td>...</td>\n",
       "      <td>...</td>\n",
       "      <td>...</td>\n",
       "      <td>...</td>\n",
       "      <td>...</td>\n",
       "      <td>...</td>\n",
       "      <td>...</td>\n",
       "      <td>...</td>\n",
       "      <td>...</td>\n",
       "      <td>...</td>\n",
       "      <td>...</td>\n",
       "      <td>...</td>\n",
       "      <td>...</td>\n",
       "      <td>...</td>\n",
       "      <td>...</td>\n",
       "      <td>...</td>\n",
       "      <td>...</td>\n",
       "      <td>...</td>\n",
       "    </tr>\n",
       "    <tr>\n",
       "      <th>195</th>\n",
       "      <td>196</td>\n",
       "      <td>1</td>\n",
       "      <td>1</td>\n",
       "      <td>0</td>\n",
       "      <td>0</td>\n",
       "      <td>1</td>\n",
       "      <td>0</td>\n",
       "      <td>0</td>\n",
       "      <td>1</td>\n",
       "      <td>1</td>\n",
       "      <td>1</td>\n",
       "      <td>23.099434</td>\n",
       "      <td>m</td>\n",
       "      <td>Black</td>\n",
       "      <td>no</td>\n",
       "      <td>no</td>\n",
       "      <td>Azerbaijan</td>\n",
       "      <td>no</td>\n",
       "      <td>-1.915659</td>\n",
       "      <td>18 and more</td>\n",
       "      <td>Self</td>\n",
       "    </tr>\n",
       "    <tr>\n",
       "      <th>196</th>\n",
       "      <td>197</td>\n",
       "      <td>1</td>\n",
       "      <td>0</td>\n",
       "      <td>0</td>\n",
       "      <td>0</td>\n",
       "      <td>0</td>\n",
       "      <td>0</td>\n",
       "      <td>0</td>\n",
       "      <td>0</td>\n",
       "      <td>0</td>\n",
       "      <td>1</td>\n",
       "      <td>13.935726</td>\n",
       "      <td>m</td>\n",
       "      <td>Others</td>\n",
       "      <td>no</td>\n",
       "      <td>no</td>\n",
       "      <td>India</td>\n",
       "      <td>no</td>\n",
       "      <td>0.520234</td>\n",
       "      <td>18 and more</td>\n",
       "      <td>Self</td>\n",
       "    </tr>\n",
       "    <tr>\n",
       "      <th>197</th>\n",
       "      <td>198</td>\n",
       "      <td>1</td>\n",
       "      <td>0</td>\n",
       "      <td>0</td>\n",
       "      <td>0</td>\n",
       "      <td>0</td>\n",
       "      <td>0</td>\n",
       "      <td>1</td>\n",
       "      <td>0</td>\n",
       "      <td>1</td>\n",
       "      <td>1</td>\n",
       "      <td>22.760041</td>\n",
       "      <td>m</td>\n",
       "      <td>?</td>\n",
       "      <td>no</td>\n",
       "      <td>no</td>\n",
       "      <td>New Zealand</td>\n",
       "      <td>no</td>\n",
       "      <td>3.498948</td>\n",
       "      <td>18 and more</td>\n",
       "      <td>?</td>\n",
       "    </tr>\n",
       "    <tr>\n",
       "      <th>198</th>\n",
       "      <td>199</td>\n",
       "      <td>0</td>\n",
       "      <td>1</td>\n",
       "      <td>0</td>\n",
       "      <td>0</td>\n",
       "      <td>0</td>\n",
       "      <td>0</td>\n",
       "      <td>0</td>\n",
       "      <td>1</td>\n",
       "      <td>0</td>\n",
       "      <td>1</td>\n",
       "      <td>24.352584</td>\n",
       "      <td>f</td>\n",
       "      <td>?</td>\n",
       "      <td>no</td>\n",
       "      <td>no</td>\n",
       "      <td>United States</td>\n",
       "      <td>no</td>\n",
       "      <td>5.594550</td>\n",
       "      <td>18 and more</td>\n",
       "      <td>Self</td>\n",
       "    </tr>\n",
       "    <tr>\n",
       "      <th>199</th>\n",
       "      <td>200</td>\n",
       "      <td>1</td>\n",
       "      <td>0</td>\n",
       "      <td>0</td>\n",
       "      <td>0</td>\n",
       "      <td>0</td>\n",
       "      <td>0</td>\n",
       "      <td>1</td>\n",
       "      <td>1</td>\n",
       "      <td>0</td>\n",
       "      <td>1</td>\n",
       "      <td>45.713232</td>\n",
       "      <td>f</td>\n",
       "      <td>Others</td>\n",
       "      <td>no</td>\n",
       "      <td>no</td>\n",
       "      <td>Czech Republic</td>\n",
       "      <td>no</td>\n",
       "      <td>9.532981</td>\n",
       "      <td>18 and more</td>\n",
       "      <td>Self</td>\n",
       "    </tr>\n",
       "  </tbody>\n",
       "</table>\n",
       "<p>200 rows × 21 columns</p>\n",
       "</div>"
      ],
      "text/plain": [
       "      ID  A1_Score  A2_Score  A3_Score  A4_Score  A5_Score  A6_Score  \\\n",
       "0      1         1         1         0         0         1         1   \n",
       "1      2         1         0         0         0         0         0   \n",
       "2      3         1         1         1         0         1         1   \n",
       "3      4         0         0         0         0         0         0   \n",
       "4      5         0         0         0         1         0         0   \n",
       "..   ...       ...       ...       ...       ...       ...       ...   \n",
       "195  196         1         1         0         0         1         0   \n",
       "196  197         1         0         0         0         0         0   \n",
       "197  198         1         0         0         0         0         0   \n",
       "198  199         0         1         0         0         0         0   \n",
       "199  200         1         0         0         0         0         0   \n",
       "\n",
       "     A7_Score  A8_Score  A9_Score  A10_Score        age gender  \\\n",
       "0           0         0         1          1  15.599481      m   \n",
       "1           0         1         0          0  27.181099      m   \n",
       "2           0         1         1          1  31.643906      m   \n",
       "3           0         0         0          0  25.369210      m   \n",
       "4           0         0         0          0   9.078580      m   \n",
       "..        ...       ...       ...        ...        ...    ...   \n",
       "195         0         1         1          1  23.099434      m   \n",
       "196         0         0         0          1  13.935726      m   \n",
       "197         1         0         1          1  22.760041      m   \n",
       "198         0         1         0          1  24.352584      f   \n",
       "199         1         1         0          1  45.713232      f   \n",
       "\n",
       "          ethnicity jaundice austim   contry_of_res used_app_before  \\\n",
       "0    White-European      yes     no           India              no   \n",
       "1             Asian       no     no          Mexico              no   \n",
       "2    White-European      yes     no           Egypt              no   \n",
       "3                 ?       no     no           India              no   \n",
       "4                 ?       no     no           Italy              no   \n",
       "..              ...      ...    ...             ...             ...   \n",
       "195           Black       no     no      Azerbaijan              no   \n",
       "196          Others       no     no           India              no   \n",
       "197               ?       no     no     New Zealand              no   \n",
       "198               ?       no     no   United States              no   \n",
       "199          Others       no     no  Czech Republic              no   \n",
       "\n",
       "        result     age_desc relation  \n",
       "0    12.399055  18 and more     Self  \n",
       "1     6.551598  18 and more     Self  \n",
       "2     3.180663  18 and more     Self  \n",
       "3     2.220766  18 and more     Self  \n",
       "4     7.252028  18 and more     Self  \n",
       "..         ...          ...      ...  \n",
       "195  -1.915659  18 and more     Self  \n",
       "196   0.520234  18 and more     Self  \n",
       "197   3.498948  18 and more        ?  \n",
       "198   5.594550  18 and more     Self  \n",
       "199   9.532981  18 and more     Self  \n",
       "\n",
       "[200 rows x 21 columns]"
      ]
     },
     "execution_count": 1499,
     "metadata": {},
     "output_type": "execute_result"
    }
   ],
   "source": [
    "Testdf=pd.read_csv(r'\\autismdiagnosis\\Autism_Prediction\\test.csv')\n",
    "Testdf"
   ]
  },
  {
   "cell_type": "code",
   "execution_count": 1465,
   "metadata": {},
   "outputs": [],
   "source": [
    "Testdf=Testdf.drop(['ID','age_desc','gender','contry_of_res','used_app_before'],axis=1)"
   ]
  },
  {
   "cell_type": "code",
   "execution_count": 1466,
   "metadata": {},
   "outputs": [],
   "source": [
    "Testdf = Testdf.replace(['?'],np.nan)"
   ]
  },
  {
   "cell_type": "code",
   "execution_count": 1467,
   "metadata": {},
   "outputs": [],
   "source": [
    "for value in ['ethnicity','relation']:\n",
    "    Testdf[value].fillna(Testdf[value].mode()[0],inplace=True)"
   ]
  },
  {
   "cell_type": "code",
   "execution_count": 1468,
   "metadata": {},
   "outputs": [],
   "source": [
    "objTestCol=[i for i in Testdf.columns if Testdf.dtypes[i]=='object'] #Storing object columns in list"
   ]
  },
  {
   "cell_type": "code",
   "execution_count": 1469,
   "metadata": {},
   "outputs": [
    {
     "name": "stdout",
     "output_type": "stream",
     "text": [
      "Feature ethnicity\n",
      "mapping {'Asian': 0, 'Black': 1, 'Hispanic': 2, 'Latino': 3, 'Middle Eastern ': 4, 'Others': 5, 'Pasifika': 6, 'South Asian': 7, 'Turkish': 8, 'White-European': 9}\n",
      "Feature jaundice\n",
      "mapping {'no': 0, 'yes': 1}\n",
      "Feature austim\n",
      "mapping {'no': 0, 'yes': 1}\n",
      "Feature relation\n",
      "mapping {'Health care professional': 0, 'Others': 1, 'Parent': 2, 'Relative': 3, 'Self': 4}\n"
     ]
    }
   ],
   "source": [
    "#for preprocessing the data\n",
    "le=preprocessing.LabelEncoder()\n",
    "for i in objTestCol:\n",
    "    Testdf[i]=le.fit_transform(Testdf[i])\n",
    "    le_name_mapping=dict(zip(le.classes_,le.transform(le.classes_)))\n",
    "    print('Feature', i )\n",
    "    print('mapping', le_name_mapping)"
   ]
  },
  {
   "cell_type": "code",
   "execution_count": 1470,
   "metadata": {},
   "outputs": [],
   "source": [
    "X_test_new = Testdf"
   ]
  },
  {
   "cell_type": "code",
   "execution_count": 1471,
   "metadata": {},
   "outputs": [],
   "source": [
    "X_test_new = scaler.transform(X_test_new)"
   ]
  },
  {
   "cell_type": "code",
   "execution_count": 1472,
   "metadata": {},
   "outputs": [],
   "source": [
    "Y_pred=lr_model.predict(X_test_new)"
   ]
  },
  {
   "cell_type": "code",
   "execution_count": 1473,
   "metadata": {},
   "outputs": [
    {
     "data": {
      "text/html": [
       "<div>\n",
       "<style scoped>\n",
       "    .dataframe tbody tr th:only-of-type {\n",
       "        vertical-align: middle;\n",
       "    }\n",
       "\n",
       "    .dataframe tbody tr th {\n",
       "        vertical-align: top;\n",
       "    }\n",
       "\n",
       "    .dataframe thead th {\n",
       "        text-align: right;\n",
       "    }\n",
       "</style>\n",
       "<table border=\"1\" class=\"dataframe\">\n",
       "  <thead>\n",
       "    <tr style=\"text-align: right;\">\n",
       "      <th></th>\n",
       "      <th>ID</th>\n",
       "      <th>A1_Score</th>\n",
       "      <th>A2_Score</th>\n",
       "      <th>A3_Score</th>\n",
       "      <th>A4_Score</th>\n",
       "      <th>A5_Score</th>\n",
       "      <th>A6_Score</th>\n",
       "      <th>A7_Score</th>\n",
       "      <th>A8_Score</th>\n",
       "      <th>A9_Score</th>\n",
       "      <th>A10_Score</th>\n",
       "      <th>age</th>\n",
       "      <th>gender</th>\n",
       "      <th>ethnicity</th>\n",
       "      <th>jaundice</th>\n",
       "      <th>austim</th>\n",
       "      <th>contry_of_res</th>\n",
       "      <th>used_app_before</th>\n",
       "      <th>result</th>\n",
       "      <th>age_desc</th>\n",
       "      <th>relation</th>\n",
       "      <th>Class/ASD</th>\n",
       "    </tr>\n",
       "  </thead>\n",
       "  <tbody>\n",
       "    <tr>\n",
       "      <th>0</th>\n",
       "      <td>1</td>\n",
       "      <td>1</td>\n",
       "      <td>1</td>\n",
       "      <td>0</td>\n",
       "      <td>0</td>\n",
       "      <td>1</td>\n",
       "      <td>1</td>\n",
       "      <td>0</td>\n",
       "      <td>0</td>\n",
       "      <td>1</td>\n",
       "      <td>1</td>\n",
       "      <td>15.599481</td>\n",
       "      <td>m</td>\n",
       "      <td>White-European</td>\n",
       "      <td>yes</td>\n",
       "      <td>no</td>\n",
       "      <td>India</td>\n",
       "      <td>no</td>\n",
       "      <td>12.399055</td>\n",
       "      <td>18 and more</td>\n",
       "      <td>Self</td>\n",
       "      <td>1</td>\n",
       "    </tr>\n",
       "    <tr>\n",
       "      <th>1</th>\n",
       "      <td>2</td>\n",
       "      <td>1</td>\n",
       "      <td>0</td>\n",
       "      <td>0</td>\n",
       "      <td>0</td>\n",
       "      <td>0</td>\n",
       "      <td>0</td>\n",
       "      <td>0</td>\n",
       "      <td>1</td>\n",
       "      <td>0</td>\n",
       "      <td>0</td>\n",
       "      <td>27.181099</td>\n",
       "      <td>m</td>\n",
       "      <td>Asian</td>\n",
       "      <td>no</td>\n",
       "      <td>no</td>\n",
       "      <td>Mexico</td>\n",
       "      <td>no</td>\n",
       "      <td>6.551598</td>\n",
       "      <td>18 and more</td>\n",
       "      <td>Self</td>\n",
       "      <td>0</td>\n",
       "    </tr>\n",
       "    <tr>\n",
       "      <th>2</th>\n",
       "      <td>3</td>\n",
       "      <td>1</td>\n",
       "      <td>1</td>\n",
       "      <td>1</td>\n",
       "      <td>0</td>\n",
       "      <td>1</td>\n",
       "      <td>1</td>\n",
       "      <td>0</td>\n",
       "      <td>1</td>\n",
       "      <td>1</td>\n",
       "      <td>1</td>\n",
       "      <td>31.643906</td>\n",
       "      <td>m</td>\n",
       "      <td>White-European</td>\n",
       "      <td>yes</td>\n",
       "      <td>no</td>\n",
       "      <td>Egypt</td>\n",
       "      <td>no</td>\n",
       "      <td>3.180663</td>\n",
       "      <td>18 and more</td>\n",
       "      <td>Self</td>\n",
       "      <td>1</td>\n",
       "    </tr>\n",
       "    <tr>\n",
       "      <th>3</th>\n",
       "      <td>4</td>\n",
       "      <td>0</td>\n",
       "      <td>0</td>\n",
       "      <td>0</td>\n",
       "      <td>0</td>\n",
       "      <td>0</td>\n",
       "      <td>0</td>\n",
       "      <td>0</td>\n",
       "      <td>0</td>\n",
       "      <td>0</td>\n",
       "      <td>0</td>\n",
       "      <td>25.369210</td>\n",
       "      <td>m</td>\n",
       "      <td>?</td>\n",
       "      <td>no</td>\n",
       "      <td>no</td>\n",
       "      <td>India</td>\n",
       "      <td>no</td>\n",
       "      <td>2.220766</td>\n",
       "      <td>18 and more</td>\n",
       "      <td>Self</td>\n",
       "      <td>0</td>\n",
       "    </tr>\n",
       "    <tr>\n",
       "      <th>4</th>\n",
       "      <td>5</td>\n",
       "      <td>0</td>\n",
       "      <td>0</td>\n",
       "      <td>0</td>\n",
       "      <td>1</td>\n",
       "      <td>0</td>\n",
       "      <td>0</td>\n",
       "      <td>0</td>\n",
       "      <td>0</td>\n",
       "      <td>0</td>\n",
       "      <td>0</td>\n",
       "      <td>9.078580</td>\n",
       "      <td>m</td>\n",
       "      <td>?</td>\n",
       "      <td>no</td>\n",
       "      <td>no</td>\n",
       "      <td>Italy</td>\n",
       "      <td>no</td>\n",
       "      <td>7.252028</td>\n",
       "      <td>18 and more</td>\n",
       "      <td>Self</td>\n",
       "      <td>0</td>\n",
       "    </tr>\n",
       "  </tbody>\n",
       "</table>\n",
       "</div>"
      ],
      "text/plain": [
       "   ID  A1_Score  A2_Score  A3_Score  A4_Score  A5_Score  A6_Score  A7_Score  \\\n",
       "0   1         1         1         0         0         1         1         0   \n",
       "1   2         1         0         0         0         0         0         0   \n",
       "2   3         1         1         1         0         1         1         0   \n",
       "3   4         0         0         0         0         0         0         0   \n",
       "4   5         0         0         0         1         0         0         0   \n",
       "\n",
       "   A8_Score  A9_Score  A10_Score        age gender       ethnicity jaundice  \\\n",
       "0         0         1          1  15.599481      m  White-European      yes   \n",
       "1         1         0          0  27.181099      m           Asian       no   \n",
       "2         1         1          1  31.643906      m  White-European      yes   \n",
       "3         0         0          0  25.369210      m               ?       no   \n",
       "4         0         0          0   9.078580      m               ?       no   \n",
       "\n",
       "  austim contry_of_res used_app_before     result     age_desc relation  \\\n",
       "0     no         India              no  12.399055  18 and more     Self   \n",
       "1     no        Mexico              no   6.551598  18 and more     Self   \n",
       "2     no         Egypt              no   3.180663  18 and more     Self   \n",
       "3     no         India              no   2.220766  18 and more     Self   \n",
       "4     no         Italy              no   7.252028  18 and more     Self   \n",
       "\n",
       "   Class/ASD  \n",
       "0          1  \n",
       "1          0  \n",
       "2          1  \n",
       "3          0  \n",
       "4          0  "
      ]
     },
     "execution_count": 1473,
     "metadata": {},
     "output_type": "execute_result"
    }
   ],
   "source": [
    "Testdf=pd.read_csv(r'\\autismdiagnosis\\Autism_Prediction\\test.csv')\n",
    "Testdf['Class/ASD']=Y_pred\n",
    "Testdf.head()"
   ]
  },
  {
   "cell_type": "code",
   "execution_count": 1474,
   "metadata": {},
   "outputs": [],
   "source": [
    "Submission_file19 = Testdf[['ID','Class/ASD']]"
   ]
  },
  {
   "cell_type": "code",
   "execution_count": 1475,
   "metadata": {},
   "outputs": [],
   "source": [
    "Submission_file19.to_csv(r'\\autismdiagnosis\\Autism_Prediction\\Submission_file19.csv')"
   ]
  },
  {
   "cell_type": "code",
   "execution_count": 351,
   "metadata": {},
   "outputs": [],
   "source": [
    "#Testdf['Y_predictions']=Testdf['Y_predictions'].map({0:'No',1:'Yes'})"
   ]
  },
  {
   "cell_type": "code",
   "execution_count": 352,
   "metadata": {},
   "outputs": [],
   "source": [
    "#Testdf"
   ]
  },
  {
   "cell_type": "code",
   "execution_count": 706,
   "metadata": {},
   "outputs": [
    {
     "data": {
      "text/plain": [
       "0    181\n",
       "1     19\n",
       "Name: Class/ASD, dtype: int64"
      ]
     },
     "execution_count": 706,
     "metadata": {},
     "output_type": "execute_result"
    }
   ],
   "source": [
    "Testdf['Class/ASD'].value_counts()"
   ]
  },
  {
   "cell_type": "code",
   "execution_count": 346,
   "metadata": {},
   "outputs": [],
   "source": [
    "# Y_pred_GB=model_GradientBoosting.predict(X_test_new)"
   ]
  },
  {
   "cell_type": "code",
   "execution_count": 347,
   "metadata": {},
   "outputs": [
    {
     "data": {
      "text/html": [
       "<div>\n",
       "<style scoped>\n",
       "    .dataframe tbody tr th:only-of-type {\n",
       "        vertical-align: middle;\n",
       "    }\n",
       "\n",
       "    .dataframe tbody tr th {\n",
       "        vertical-align: top;\n",
       "    }\n",
       "\n",
       "    .dataframe thead th {\n",
       "        text-align: right;\n",
       "    }\n",
       "</style>\n",
       "<table border=\"1\" class=\"dataframe\">\n",
       "  <thead>\n",
       "    <tr style=\"text-align: right;\">\n",
       "      <th></th>\n",
       "      <th>ID</th>\n",
       "      <th>A1_Score</th>\n",
       "      <th>A2_Score</th>\n",
       "      <th>A3_Score</th>\n",
       "      <th>A4_Score</th>\n",
       "      <th>A5_Score</th>\n",
       "      <th>A6_Score</th>\n",
       "      <th>A7_Score</th>\n",
       "      <th>A8_Score</th>\n",
       "      <th>A9_Score</th>\n",
       "      <th>A10_Score</th>\n",
       "      <th>age</th>\n",
       "      <th>gender</th>\n",
       "      <th>ethnicity</th>\n",
       "      <th>jaundice</th>\n",
       "      <th>austim</th>\n",
       "      <th>contry_of_res</th>\n",
       "      <th>used_app_before</th>\n",
       "      <th>result</th>\n",
       "      <th>age_desc</th>\n",
       "      <th>relation</th>\n",
       "      <th>Y_predictions</th>\n",
       "    </tr>\n",
       "  </thead>\n",
       "  <tbody>\n",
       "    <tr>\n",
       "      <th>0</th>\n",
       "      <td>1</td>\n",
       "      <td>1</td>\n",
       "      <td>1</td>\n",
       "      <td>0</td>\n",
       "      <td>0</td>\n",
       "      <td>1</td>\n",
       "      <td>1</td>\n",
       "      <td>0</td>\n",
       "      <td>0</td>\n",
       "      <td>1</td>\n",
       "      <td>1</td>\n",
       "      <td>15.599481</td>\n",
       "      <td>m</td>\n",
       "      <td>White-European</td>\n",
       "      <td>yes</td>\n",
       "      <td>no</td>\n",
       "      <td>India</td>\n",
       "      <td>no</td>\n",
       "      <td>12.399055</td>\n",
       "      <td>18 and more</td>\n",
       "      <td>Self</td>\n",
       "      <td>1</td>\n",
       "    </tr>\n",
       "    <tr>\n",
       "      <th>1</th>\n",
       "      <td>2</td>\n",
       "      <td>1</td>\n",
       "      <td>0</td>\n",
       "      <td>0</td>\n",
       "      <td>0</td>\n",
       "      <td>0</td>\n",
       "      <td>0</td>\n",
       "      <td>0</td>\n",
       "      <td>1</td>\n",
       "      <td>0</td>\n",
       "      <td>0</td>\n",
       "      <td>27.181099</td>\n",
       "      <td>m</td>\n",
       "      <td>Asian</td>\n",
       "      <td>no</td>\n",
       "      <td>no</td>\n",
       "      <td>Mexico</td>\n",
       "      <td>no</td>\n",
       "      <td>6.551598</td>\n",
       "      <td>18 and more</td>\n",
       "      <td>Self</td>\n",
       "      <td>0</td>\n",
       "    </tr>\n",
       "    <tr>\n",
       "      <th>2</th>\n",
       "      <td>3</td>\n",
       "      <td>1</td>\n",
       "      <td>1</td>\n",
       "      <td>1</td>\n",
       "      <td>0</td>\n",
       "      <td>1</td>\n",
       "      <td>1</td>\n",
       "      <td>0</td>\n",
       "      <td>1</td>\n",
       "      <td>1</td>\n",
       "      <td>1</td>\n",
       "      <td>31.643906</td>\n",
       "      <td>m</td>\n",
       "      <td>White-European</td>\n",
       "      <td>yes</td>\n",
       "      <td>no</td>\n",
       "      <td>Egypt</td>\n",
       "      <td>no</td>\n",
       "      <td>3.180663</td>\n",
       "      <td>18 and more</td>\n",
       "      <td>Self</td>\n",
       "      <td>1</td>\n",
       "    </tr>\n",
       "    <tr>\n",
       "      <th>3</th>\n",
       "      <td>4</td>\n",
       "      <td>0</td>\n",
       "      <td>0</td>\n",
       "      <td>0</td>\n",
       "      <td>0</td>\n",
       "      <td>0</td>\n",
       "      <td>0</td>\n",
       "      <td>0</td>\n",
       "      <td>0</td>\n",
       "      <td>0</td>\n",
       "      <td>0</td>\n",
       "      <td>25.369210</td>\n",
       "      <td>m</td>\n",
       "      <td>?</td>\n",
       "      <td>no</td>\n",
       "      <td>no</td>\n",
       "      <td>India</td>\n",
       "      <td>no</td>\n",
       "      <td>2.220766</td>\n",
       "      <td>18 and more</td>\n",
       "      <td>Self</td>\n",
       "      <td>0</td>\n",
       "    </tr>\n",
       "    <tr>\n",
       "      <th>4</th>\n",
       "      <td>5</td>\n",
       "      <td>0</td>\n",
       "      <td>0</td>\n",
       "      <td>0</td>\n",
       "      <td>1</td>\n",
       "      <td>0</td>\n",
       "      <td>0</td>\n",
       "      <td>0</td>\n",
       "      <td>0</td>\n",
       "      <td>0</td>\n",
       "      <td>0</td>\n",
       "      <td>9.078580</td>\n",
       "      <td>m</td>\n",
       "      <td>?</td>\n",
       "      <td>no</td>\n",
       "      <td>no</td>\n",
       "      <td>Italy</td>\n",
       "      <td>no</td>\n",
       "      <td>7.252028</td>\n",
       "      <td>18 and more</td>\n",
       "      <td>Self</td>\n",
       "      <td>0</td>\n",
       "    </tr>\n",
       "  </tbody>\n",
       "</table>\n",
       "</div>"
      ],
      "text/plain": [
       "   ID  A1_Score  A2_Score  A3_Score  A4_Score  A5_Score  A6_Score  A7_Score  \\\n",
       "0   1         1         1         0         0         1         1         0   \n",
       "1   2         1         0         0         0         0         0         0   \n",
       "2   3         1         1         1         0         1         1         0   \n",
       "3   4         0         0         0         0         0         0         0   \n",
       "4   5         0         0         0         1         0         0         0   \n",
       "\n",
       "   A8_Score  A9_Score  A10_Score        age gender       ethnicity jaundice  \\\n",
       "0         0         1          1  15.599481      m  White-European      yes   \n",
       "1         1         0          0  27.181099      m           Asian       no   \n",
       "2         1         1          1  31.643906      m  White-European      yes   \n",
       "3         0         0          0  25.369210      m               ?       no   \n",
       "4         0         0          0   9.078580      m               ?       no   \n",
       "\n",
       "  austim contry_of_res used_app_before     result     age_desc relation  \\\n",
       "0     no         India              no  12.399055  18 and more     Self   \n",
       "1     no        Mexico              no   6.551598  18 and more     Self   \n",
       "2     no         Egypt              no   3.180663  18 and more     Self   \n",
       "3     no         India              no   2.220766  18 and more     Self   \n",
       "4     no         Italy              no   7.252028  18 and more     Self   \n",
       "\n",
       "   Y_predictions  \n",
       "0              1  \n",
       "1              0  \n",
       "2              1  \n",
       "3              0  \n",
       "4              0  "
      ]
     },
     "execution_count": 347,
     "metadata": {},
     "output_type": "execute_result"
    }
   ],
   "source": [
    "# Testdf=pd.read_csv(r'\\autismdiagnosis\\Autism_Prediction\\test.csv')\n",
    "# Testdf['Y_predictions']=Y_pred_GB\n",
    "# Testdf.head()"
   ]
  },
  {
   "cell_type": "code",
   "execution_count": 348,
   "metadata": {},
   "outputs": [
    {
     "data": {
      "text/plain": [
       "0    161\n",
       "1     39\n",
       "Name: Y_predictions, dtype: int64"
      ]
     },
     "execution_count": 348,
     "metadata": {},
     "output_type": "execute_result"
    }
   ],
   "source": [
    "# Testdf['Y_predictions'].value_counts()"
   ]
  },
  {
   "cell_type": "code",
   "execution_count": null,
   "metadata": {},
   "outputs": [],
   "source": []
  }
 ],
 "metadata": {
  "kernelspec": {
   "display_name": "Python 3",
   "language": "python",
   "name": "python3"
  },
  "language_info": {
   "codemirror_mode": {
    "name": "ipython",
    "version": 3
   },
   "file_extension": ".py",
   "mimetype": "text/x-python",
   "name": "python",
   "nbconvert_exporter": "python",
   "pygments_lexer": "ipython3",
   "version": "3.8.3"
  }
 },
 "nbformat": 4,
 "nbformat_minor": 4
}
